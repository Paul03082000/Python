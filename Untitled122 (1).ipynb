{
 "cells": [
  {
   "cell_type": "code",
   "execution_count": 1,
   "id": "acdfb172",
   "metadata": {},
   "outputs": [],
   "source": [
    "import pandas as pd\n",
    "import numpy as np\n",
    "from matplotlib import pyplot as plt\n",
    "import seaborn as sns"
   ]
  },
  {
   "cell_type": "code",
   "execution_count": 2,
   "id": "2289b610",
   "metadata": {},
   "outputs": [
    {
     "data": {
      "text/html": [
       "<div>\n",
       "<style scoped>\n",
       "    .dataframe tbody tr th:only-of-type {\n",
       "        vertical-align: middle;\n",
       "    }\n",
       "\n",
       "    .dataframe tbody tr th {\n",
       "        vertical-align: top;\n",
       "    }\n",
       "\n",
       "    .dataframe thead th {\n",
       "        text-align: right;\n",
       "    }\n",
       "</style>\n",
       "<table border=\"1\" class=\"dataframe\">\n",
       "  <thead>\n",
       "    <tr style=\"text-align: right;\">\n",
       "      <th></th>\n",
       "      <th>Season</th>\n",
       "      <th>Episode</th>\n",
       "      <th>Company</th>\n",
       "      <th>Deal</th>\n",
       "      <th>Receive_Offer</th>\n",
       "      <th>Reject_Offer</th>\n",
       "      <th>Number of presenters</th>\n",
       "      <th>No of male presenters</th>\n",
       "      <th>No of female presenters</th>\n",
       "      <th>Ask_Amount (INR Lakhs)</th>\n",
       "      <th>...</th>\n",
       "      <th>AshneerGrover_deal</th>\n",
       "      <th>AnupamMittal_deal</th>\n",
       "      <th>AmanGupta_deal</th>\n",
       "      <th>NamitaThapar_deal</th>\n",
       "      <th>VineetaSingh_deal</th>\n",
       "      <th>PeyushBansal_deal</th>\n",
       "      <th>GhazalAlagh_deal</th>\n",
       "      <th>Number of Sharks invested</th>\n",
       "      <th>Amount per Shark</th>\n",
       "      <th>Equity per Shark</th>\n",
       "    </tr>\n",
       "    <tr>\n",
       "      <th>Idea</th>\n",
       "      <th></th>\n",
       "      <th></th>\n",
       "      <th></th>\n",
       "      <th></th>\n",
       "      <th></th>\n",
       "      <th></th>\n",
       "      <th></th>\n",
       "      <th></th>\n",
       "      <th></th>\n",
       "      <th></th>\n",
       "      <th></th>\n",
       "      <th></th>\n",
       "      <th></th>\n",
       "      <th></th>\n",
       "      <th></th>\n",
       "      <th></th>\n",
       "      <th></th>\n",
       "      <th></th>\n",
       "      <th></th>\n",
       "      <th></th>\n",
       "      <th></th>\n",
       "    </tr>\n",
       "  </thead>\n",
       "  <tbody>\n",
       "    <tr>\n",
       "      <th>Frozen Momos</th>\n",
       "      <td>1</td>\n",
       "      <td>1</td>\n",
       "      <td>BluePine Industries</td>\n",
       "      <td>1</td>\n",
       "      <td>1</td>\n",
       "      <td>0.0</td>\n",
       "      <td>3</td>\n",
       "      <td>2</td>\n",
       "      <td>1</td>\n",
       "      <td>50.0</td>\n",
       "      <td>...</td>\n",
       "      <td>1</td>\n",
       "      <td>0</td>\n",
       "      <td>1</td>\n",
       "      <td>0</td>\n",
       "      <td>1</td>\n",
       "      <td>0</td>\n",
       "      <td>0</td>\n",
       "      <td>3</td>\n",
       "      <td>25.0</td>\n",
       "      <td>5.333333</td>\n",
       "    </tr>\n",
       "    <tr>\n",
       "      <th>Renting e-bike for mobility in private spaces</th>\n",
       "      <td>1</td>\n",
       "      <td>1</td>\n",
       "      <td>Booz scooters</td>\n",
       "      <td>1</td>\n",
       "      <td>1</td>\n",
       "      <td>0.0</td>\n",
       "      <td>1</td>\n",
       "      <td>1</td>\n",
       "      <td>0</td>\n",
       "      <td>40.0</td>\n",
       "      <td>...</td>\n",
       "      <td>1</td>\n",
       "      <td>0</td>\n",
       "      <td>0</td>\n",
       "      <td>0</td>\n",
       "      <td>1</td>\n",
       "      <td>0</td>\n",
       "      <td>0</td>\n",
       "      <td>2</td>\n",
       "      <td>20.0</td>\n",
       "      <td>25.000000</td>\n",
       "    </tr>\n",
       "  </tbody>\n",
       "</table>\n",
       "<p>2 rows × 32 columns</p>\n",
       "</div>"
      ],
      "text/plain": [
       "                                               Season  Episode  \\\n",
       "Idea                                                             \n",
       "Frozen Momos                                        1        1   \n",
       "Renting e-bike for mobility in private spaces       1        1   \n",
       "\n",
       "                                                          Company   Deal   \\\n",
       "Idea                                                                        \n",
       "Frozen Momos                                   BluePine Industries      1   \n",
       "Renting e-bike for mobility in private spaces        Booz scooters      1   \n",
       "\n",
       "                                               Receive_Offer  Reject_Offer  \\\n",
       "Idea                                                                         \n",
       "Frozen Momos                                               1           0.0   \n",
       "Renting e-bike for mobility in private spaces              1           0.0   \n",
       "\n",
       "                                               Number of presenters  \\\n",
       "Idea                                                                  \n",
       "Frozen Momos                                                      3   \n",
       "Renting e-bike for mobility in private spaces                     1   \n",
       "\n",
       "                                               No of male presenters  \\\n",
       "Idea                                                                   \n",
       "Frozen Momos                                                       2   \n",
       "Renting e-bike for mobility in private spaces                      1   \n",
       "\n",
       "                                               No of female presenters  \\\n",
       "Idea                                                                     \n",
       "Frozen Momos                                                         1   \n",
       "Renting e-bike for mobility in private spaces                        0   \n",
       "\n",
       "                                               Ask_Amount (INR Lakhs)  ...  \\\n",
       "Idea                                                                   ...   \n",
       "Frozen Momos                                                     50.0  ...   \n",
       "Renting e-bike for mobility in private spaces                    40.0  ...   \n",
       "\n",
       "                                               AshneerGrover_deal  \\\n",
       "Idea                                                                \n",
       "Frozen Momos                                                    1   \n",
       "Renting e-bike for mobility in private spaces                   1   \n",
       "\n",
       "                                               AnupamMittal_deal  \\\n",
       "Idea                                                               \n",
       "Frozen Momos                                                   0   \n",
       "Renting e-bike for mobility in private spaces                  0   \n",
       "\n",
       "                                               AmanGupta_deal  \\\n",
       "Idea                                                            \n",
       "Frozen Momos                                                1   \n",
       "Renting e-bike for mobility in private spaces               0   \n",
       "\n",
       "                                               NamitaThapar_deal  \\\n",
       "Idea                                                               \n",
       "Frozen Momos                                                   0   \n",
       "Renting e-bike for mobility in private spaces                  0   \n",
       "\n",
       "                                               VineetaSingh_deal  \\\n",
       "Idea                                                               \n",
       "Frozen Momos                                                   1   \n",
       "Renting e-bike for mobility in private spaces                  1   \n",
       "\n",
       "                                               PeyushBansal_deal  \\\n",
       "Idea                                                               \n",
       "Frozen Momos                                                   0   \n",
       "Renting e-bike for mobility in private spaces                  0   \n",
       "\n",
       "                                               GhazalAlagh_deal  \\\n",
       "Idea                                                              \n",
       "Frozen Momos                                                  0   \n",
       "Renting e-bike for mobility in private spaces                 0   \n",
       "\n",
       "                                               Number of Sharks invested  \\\n",
       "Idea                                                                       \n",
       "Frozen Momos                                                           3   \n",
       "Renting e-bike for mobility in private spaces                          2   \n",
       "\n",
       "                                               Amount per Shark   \\\n",
       "Idea                                                               \n",
       "Frozen Momos                                                25.0   \n",
       "Renting e-bike for mobility in private spaces               20.0   \n",
       "\n",
       "                                               Equity per Shark  \n",
       "Idea                                                             \n",
       "Frozen Momos                                           5.333333  \n",
       "Renting e-bike for mobility in private spaces         25.000000  \n",
       "\n",
       "[2 rows x 32 columns]"
      ]
     },
     "execution_count": 2,
     "metadata": {},
     "output_type": "execute_result"
    }
   ],
   "source": [
    "shark = pd.read_csv(r\"C:\\Users\\karth\\Desktop\\Prem_Main\\Python\\Datasets\\SharkTank-Final.csv\", index_col=\"Idea\")\n",
    "shark.head(2)"
   ]
  },
  {
   "cell_type": "code",
   "execution_count": 3,
   "id": "53abb4c2",
   "metadata": {},
   "outputs": [],
   "source": [
    "shark = shark[['Season', 'Episode', 'Deal ', 'Receive_Offer',\n",
    "       'Reject_Offer', 'Number of presenters', 'No of male presenters',\n",
    "       'No of female presenters', 'Ask_Amount (INR Lakhs)', 'Ask_Equity',\n",
    "       'Ask_Valuation (INR Lakhs)', 'Deal_Amount (INR Lakhs)', 'Deal_Equity',\n",
    "       'Deal_Valuation ', 'AshneerGrover_present', 'AnupamMittal_present',\n",
    "       'AmanGupta_present', 'NamitaThapar_present', 'VineetaSingh_present',\n",
    "       'PeyushBansal_present', 'GhazalAlagh_present', 'AshneerGrover_deal',\n",
    "       'AnupamMittal_deal', 'AmanGupta_deal', 'NamitaThapar_deal',\n",
    "       'VineetaSingh_deal', 'PeyushBansal_deal', 'GhazalAlagh_deal',\n",
    "       'Number of Sharks invested', 'Amount per Shark ', 'Equity per Shark']]"
   ]
  },
  {
   "cell_type": "code",
   "execution_count": 4,
   "id": "b8140b91",
   "metadata": {},
   "outputs": [
    {
     "data": {
      "text/html": [
       "<div>\n",
       "<style scoped>\n",
       "    .dataframe tbody tr th:only-of-type {\n",
       "        vertical-align: middle;\n",
       "    }\n",
       "\n",
       "    .dataframe tbody tr th {\n",
       "        vertical-align: top;\n",
       "    }\n",
       "\n",
       "    .dataframe thead th {\n",
       "        text-align: right;\n",
       "    }\n",
       "</style>\n",
       "<table border=\"1\" class=\"dataframe\">\n",
       "  <thead>\n",
       "    <tr style=\"text-align: right;\">\n",
       "      <th></th>\n",
       "      <th>Season</th>\n",
       "      <th>Episode</th>\n",
       "      <th>Deal</th>\n",
       "      <th>Receive_Offer</th>\n",
       "      <th>Reject_Offer</th>\n",
       "      <th>Number of presenters</th>\n",
       "      <th>No of male presenters</th>\n",
       "      <th>No of female presenters</th>\n",
       "      <th>Ask_Amount (INR Lakhs)</th>\n",
       "      <th>Ask_Equity</th>\n",
       "      <th>...</th>\n",
       "      <th>AshneerGrover_deal</th>\n",
       "      <th>AnupamMittal_deal</th>\n",
       "      <th>AmanGupta_deal</th>\n",
       "      <th>NamitaThapar_deal</th>\n",
       "      <th>VineetaSingh_deal</th>\n",
       "      <th>PeyushBansal_deal</th>\n",
       "      <th>GhazalAlagh_deal</th>\n",
       "      <th>Number of Sharks invested</th>\n",
       "      <th>Amount per Shark</th>\n",
       "      <th>Equity per Shark</th>\n",
       "    </tr>\n",
       "    <tr>\n",
       "      <th>Idea</th>\n",
       "      <th></th>\n",
       "      <th></th>\n",
       "      <th></th>\n",
       "      <th></th>\n",
       "      <th></th>\n",
       "      <th></th>\n",
       "      <th></th>\n",
       "      <th></th>\n",
       "      <th></th>\n",
       "      <th></th>\n",
       "      <th></th>\n",
       "      <th></th>\n",
       "      <th></th>\n",
       "      <th></th>\n",
       "      <th></th>\n",
       "      <th></th>\n",
       "      <th></th>\n",
       "      <th></th>\n",
       "      <th></th>\n",
       "      <th></th>\n",
       "      <th></th>\n",
       "    </tr>\n",
       "  </thead>\n",
       "  <tbody>\n",
       "    <tr>\n",
       "      <th>Frozen Momos</th>\n",
       "      <td>1</td>\n",
       "      <td>1</td>\n",
       "      <td>1</td>\n",
       "      <td>1</td>\n",
       "      <td>0.0</td>\n",
       "      <td>3</td>\n",
       "      <td>2</td>\n",
       "      <td>1</td>\n",
       "      <td>50.0</td>\n",
       "      <td>5.0</td>\n",
       "      <td>...</td>\n",
       "      <td>1</td>\n",
       "      <td>0</td>\n",
       "      <td>1</td>\n",
       "      <td>0</td>\n",
       "      <td>1</td>\n",
       "      <td>0</td>\n",
       "      <td>0</td>\n",
       "      <td>3</td>\n",
       "      <td>25.0</td>\n",
       "      <td>5.333333</td>\n",
       "    </tr>\n",
       "    <tr>\n",
       "      <th>Renting e-bike for mobility in private spaces</th>\n",
       "      <td>1</td>\n",
       "      <td>1</td>\n",
       "      <td>1</td>\n",
       "      <td>1</td>\n",
       "      <td>0.0</td>\n",
       "      <td>1</td>\n",
       "      <td>1</td>\n",
       "      <td>0</td>\n",
       "      <td>40.0</td>\n",
       "      <td>15.0</td>\n",
       "      <td>...</td>\n",
       "      <td>1</td>\n",
       "      <td>0</td>\n",
       "      <td>0</td>\n",
       "      <td>0</td>\n",
       "      <td>1</td>\n",
       "      <td>0</td>\n",
       "      <td>0</td>\n",
       "      <td>2</td>\n",
       "      <td>20.0</td>\n",
       "      <td>25.000000</td>\n",
       "    </tr>\n",
       "  </tbody>\n",
       "</table>\n",
       "<p>2 rows × 31 columns</p>\n",
       "</div>"
      ],
      "text/plain": [
       "                                               Season  Episode  Deal   \\\n",
       "Idea                                                                    \n",
       "Frozen Momos                                        1        1      1   \n",
       "Renting e-bike for mobility in private spaces       1        1      1   \n",
       "\n",
       "                                               Receive_Offer  Reject_Offer  \\\n",
       "Idea                                                                         \n",
       "Frozen Momos                                               1           0.0   \n",
       "Renting e-bike for mobility in private spaces              1           0.0   \n",
       "\n",
       "                                               Number of presenters  \\\n",
       "Idea                                                                  \n",
       "Frozen Momos                                                      3   \n",
       "Renting e-bike for mobility in private spaces                     1   \n",
       "\n",
       "                                               No of male presenters  \\\n",
       "Idea                                                                   \n",
       "Frozen Momos                                                       2   \n",
       "Renting e-bike for mobility in private spaces                      1   \n",
       "\n",
       "                                               No of female presenters  \\\n",
       "Idea                                                                     \n",
       "Frozen Momos                                                         1   \n",
       "Renting e-bike for mobility in private spaces                        0   \n",
       "\n",
       "                                               Ask_Amount (INR Lakhs)  \\\n",
       "Idea                                                                    \n",
       "Frozen Momos                                                     50.0   \n",
       "Renting e-bike for mobility in private spaces                    40.0   \n",
       "\n",
       "                                               Ask_Equity  ...  \\\n",
       "Idea                                                       ...   \n",
       "Frozen Momos                                          5.0  ...   \n",
       "Renting e-bike for mobility in private spaces        15.0  ...   \n",
       "\n",
       "                                               AshneerGrover_deal  \\\n",
       "Idea                                                                \n",
       "Frozen Momos                                                    1   \n",
       "Renting e-bike for mobility in private spaces                   1   \n",
       "\n",
       "                                               AnupamMittal_deal  \\\n",
       "Idea                                                               \n",
       "Frozen Momos                                                   0   \n",
       "Renting e-bike for mobility in private spaces                  0   \n",
       "\n",
       "                                               AmanGupta_deal  \\\n",
       "Idea                                                            \n",
       "Frozen Momos                                                1   \n",
       "Renting e-bike for mobility in private spaces               0   \n",
       "\n",
       "                                               NamitaThapar_deal  \\\n",
       "Idea                                                               \n",
       "Frozen Momos                                                   0   \n",
       "Renting e-bike for mobility in private spaces                  0   \n",
       "\n",
       "                                               VineetaSingh_deal  \\\n",
       "Idea                                                               \n",
       "Frozen Momos                                                   1   \n",
       "Renting e-bike for mobility in private spaces                  1   \n",
       "\n",
       "                                               PeyushBansal_deal  \\\n",
       "Idea                                                               \n",
       "Frozen Momos                                                   0   \n",
       "Renting e-bike for mobility in private spaces                  0   \n",
       "\n",
       "                                               GhazalAlagh_deal  \\\n",
       "Idea                                                              \n",
       "Frozen Momos                                                  0   \n",
       "Renting e-bike for mobility in private spaces                 0   \n",
       "\n",
       "                                               Number of Sharks invested  \\\n",
       "Idea                                                                       \n",
       "Frozen Momos                                                           3   \n",
       "Renting e-bike for mobility in private spaces                          2   \n",
       "\n",
       "                                               Amount per Shark   \\\n",
       "Idea                                                               \n",
       "Frozen Momos                                                25.0   \n",
       "Renting e-bike for mobility in private spaces               20.0   \n",
       "\n",
       "                                               Equity per Shark  \n",
       "Idea                                                             \n",
       "Frozen Momos                                           5.333333  \n",
       "Renting e-bike for mobility in private spaces         25.000000  \n",
       "\n",
       "[2 rows x 31 columns]"
      ]
     },
     "execution_count": 4,
     "metadata": {},
     "output_type": "execute_result"
    }
   ],
   "source": [
    "shark.head(2)"
   ]
  },
  {
   "cell_type": "code",
   "execution_count": 5,
   "id": "dd5867d1",
   "metadata": {},
   "outputs": [
    {
     "name": "stdout",
     "output_type": "stream",
     "text": [
      "<class 'pandas.core.frame.DataFrame'>\n",
      "Index: 121 entries, Frozen Momos to Translation services of Indian languages\n",
      "Data columns (total 31 columns):\n",
      " #   Column                     Non-Null Count  Dtype  \n",
      "---  ------                     --------------  -----  \n",
      " 0   Season                     121 non-null    int64  \n",
      " 1   Episode                    121 non-null    int64  \n",
      " 2   Deal                       121 non-null    int64  \n",
      " 3   Receive_Offer              121 non-null    int64  \n",
      " 4   Reject_Offer               87 non-null     float64\n",
      " 5   Number of presenters       121 non-null    int64  \n",
      " 6   No of male presenters      121 non-null    int64  \n",
      " 7   No of female presenters    121 non-null    int64  \n",
      " 8   Ask_Amount (INR Lakhs)     121 non-null    float64\n",
      " 9   Ask_Equity                 121 non-null    float64\n",
      " 10  Ask_Valuation (INR Lakhs)  121 non-null    float64\n",
      " 11  Deal_Amount (INR Lakhs)    121 non-null    float64\n",
      " 12  Deal_Equity                121 non-null    float64\n",
      " 13  Deal_Valuation             121 non-null    float64\n",
      " 14  AshneerGrover_present      121 non-null    int64  \n",
      " 15  AnupamMittal_present       121 non-null    int64  \n",
      " 16  AmanGupta_present          121 non-null    int64  \n",
      " 17  NamitaThapar_present       121 non-null    int64  \n",
      " 18  VineetaSingh_present       121 non-null    int64  \n",
      " 19  PeyushBansal_present       121 non-null    int64  \n",
      " 20  GhazalAlagh_present        121 non-null    int64  \n",
      " 21  AshneerGrover_deal         121 non-null    int64  \n",
      " 22  AnupamMittal_deal          121 non-null    int64  \n",
      " 23  AmanGupta_deal             121 non-null    int64  \n",
      " 24  NamitaThapar_deal          121 non-null    int64  \n",
      " 25  VineetaSingh_deal          121 non-null    int64  \n",
      " 26  PeyushBansal_deal          121 non-null    int64  \n",
      " 27  GhazalAlagh_deal           121 non-null    int64  \n",
      " 28  Number of Sharks invested  121 non-null    int64  \n",
      " 29  Amount per Shark           121 non-null    float64\n",
      " 30  Equity per Shark           121 non-null    float64\n",
      "dtypes: float64(9), int64(22)\n",
      "memory usage: 30.2+ KB\n"
     ]
    }
   ],
   "source": [
    "shark.info()"
   ]
  },
  {
   "cell_type": "code",
   "execution_count": 6,
   "id": "981c4993",
   "metadata": {},
   "outputs": [],
   "source": [
    "list_of_my_columns = ['AshneerGrover_present', 'AnupamMittal_present',\n",
    "       'AmanGupta_present', 'NamitaThapar_present', 'VineetaSingh_present',\n",
    "       'PeyushBansal_present', 'GhazalAlagh_present']\n",
    "shark['Sharks Present'] = shark[list_of_my_columns].sum(axis=1)"
   ]
  },
  {
   "cell_type": "code",
   "execution_count": 7,
   "id": "c66ca71a",
   "metadata": {},
   "outputs": [],
   "source": [
    "df = shark.drop(['Episode', 'AshneerGrover_present', 'AnupamMittal_present', 'AmanGupta_present', 'NamitaThapar_present',\n",
    "                'VineetaSingh_present', 'PeyushBansal_present', \"Season\"], axis=1) "
   ]
  },
  {
   "cell_type": "code",
   "execution_count": 8,
   "id": "bbf0a600",
   "metadata": {},
   "outputs": [],
   "source": [
    "df = df.drop(['GhazalAlagh_present','AnupamMittal_deal', 'AmanGupta_deal', \n",
    "                'NamitaThapar_deal', 'VineetaSingh_deal', 'PeyushBansal_deal', 'GhazalAlagh_deal', 'Reject_Offer', 'AshneerGrover_deal'],axis=1)"
   ]
  },
  {
   "cell_type": "code",
   "execution_count": 9,
   "id": "67ce34a4",
   "metadata": {},
   "outputs": [
    {
     "data": {
      "text/html": [
       "<div>\n",
       "<style scoped>\n",
       "    .dataframe tbody tr th:only-of-type {\n",
       "        vertical-align: middle;\n",
       "    }\n",
       "\n",
       "    .dataframe tbody tr th {\n",
       "        vertical-align: top;\n",
       "    }\n",
       "\n",
       "    .dataframe thead th {\n",
       "        text-align: right;\n",
       "    }\n",
       "</style>\n",
       "<table border=\"1\" class=\"dataframe\">\n",
       "  <thead>\n",
       "    <tr style=\"text-align: right;\">\n",
       "      <th></th>\n",
       "      <th>Deal</th>\n",
       "      <th>Receive_Offer</th>\n",
       "      <th>Number of presenters</th>\n",
       "      <th>No of male presenters</th>\n",
       "      <th>No of female presenters</th>\n",
       "      <th>Ask_Amount (INR Lakhs)</th>\n",
       "      <th>Ask_Equity</th>\n",
       "      <th>Ask_Valuation (INR Lakhs)</th>\n",
       "      <th>Deal_Amount (INR Lakhs)</th>\n",
       "      <th>Deal_Equity</th>\n",
       "      <th>Deal_Valuation</th>\n",
       "      <th>Number of Sharks invested</th>\n",
       "      <th>Amount per Shark</th>\n",
       "      <th>Equity per Shark</th>\n",
       "      <th>Sharks Present</th>\n",
       "    </tr>\n",
       "    <tr>\n",
       "      <th>Idea</th>\n",
       "      <th></th>\n",
       "      <th></th>\n",
       "      <th></th>\n",
       "      <th></th>\n",
       "      <th></th>\n",
       "      <th></th>\n",
       "      <th></th>\n",
       "      <th></th>\n",
       "      <th></th>\n",
       "      <th></th>\n",
       "      <th></th>\n",
       "      <th></th>\n",
       "      <th></th>\n",
       "      <th></th>\n",
       "      <th></th>\n",
       "    </tr>\n",
       "  </thead>\n",
       "  <tbody>\n",
       "    <tr>\n",
       "      <th>Frozen Momos</th>\n",
       "      <td>1</td>\n",
       "      <td>1</td>\n",
       "      <td>3</td>\n",
       "      <td>2</td>\n",
       "      <td>1</td>\n",
       "      <td>50.0</td>\n",
       "      <td>5.0</td>\n",
       "      <td>1000.00</td>\n",
       "      <td>75.0</td>\n",
       "      <td>16.0</td>\n",
       "      <td>468.75</td>\n",
       "      <td>3</td>\n",
       "      <td>25.0</td>\n",
       "      <td>5.333333</td>\n",
       "      <td>5</td>\n",
       "    </tr>\n",
       "    <tr>\n",
       "      <th>Renting e-bike for mobility in private spaces</th>\n",
       "      <td>1</td>\n",
       "      <td>1</td>\n",
       "      <td>1</td>\n",
       "      <td>1</td>\n",
       "      <td>0</td>\n",
       "      <td>40.0</td>\n",
       "      <td>15.0</td>\n",
       "      <td>266.67</td>\n",
       "      <td>40.0</td>\n",
       "      <td>50.0</td>\n",
       "      <td>80.00</td>\n",
       "      <td>2</td>\n",
       "      <td>20.0</td>\n",
       "      <td>25.000000</td>\n",
       "      <td>5</td>\n",
       "    </tr>\n",
       "  </tbody>\n",
       "</table>\n",
       "</div>"
      ],
      "text/plain": [
       "                                               Deal   Receive_Offer  \\\n",
       "Idea                                                                  \n",
       "Frozen Momos                                       1              1   \n",
       "Renting e-bike for mobility in private spaces      1              1   \n",
       "\n",
       "                                               Number of presenters  \\\n",
       "Idea                                                                  \n",
       "Frozen Momos                                                      3   \n",
       "Renting e-bike for mobility in private spaces                     1   \n",
       "\n",
       "                                               No of male presenters  \\\n",
       "Idea                                                                   \n",
       "Frozen Momos                                                       2   \n",
       "Renting e-bike for mobility in private spaces                      1   \n",
       "\n",
       "                                               No of female presenters  \\\n",
       "Idea                                                                     \n",
       "Frozen Momos                                                         1   \n",
       "Renting e-bike for mobility in private spaces                        0   \n",
       "\n",
       "                                               Ask_Amount (INR Lakhs)  \\\n",
       "Idea                                                                    \n",
       "Frozen Momos                                                     50.0   \n",
       "Renting e-bike for mobility in private spaces                    40.0   \n",
       "\n",
       "                                               Ask_Equity  \\\n",
       "Idea                                                        \n",
       "Frozen Momos                                          5.0   \n",
       "Renting e-bike for mobility in private spaces        15.0   \n",
       "\n",
       "                                               Ask_Valuation (INR Lakhs)  \\\n",
       "Idea                                                                       \n",
       "Frozen Momos                                                     1000.00   \n",
       "Renting e-bike for mobility in private spaces                     266.67   \n",
       "\n",
       "                                               Deal_Amount (INR Lakhs)  \\\n",
       "Idea                                                                     \n",
       "Frozen Momos                                                      75.0   \n",
       "Renting e-bike for mobility in private spaces                     40.0   \n",
       "\n",
       "                                               Deal_Equity  Deal_Valuation   \\\n",
       "Idea                                                                          \n",
       "Frozen Momos                                          16.0           468.75   \n",
       "Renting e-bike for mobility in private spaces         50.0            80.00   \n",
       "\n",
       "                                               Number of Sharks invested  \\\n",
       "Idea                                                                       \n",
       "Frozen Momos                                                           3   \n",
       "Renting e-bike for mobility in private spaces                          2   \n",
       "\n",
       "                                               Amount per Shark   \\\n",
       "Idea                                                               \n",
       "Frozen Momos                                                25.0   \n",
       "Renting e-bike for mobility in private spaces               20.0   \n",
       "\n",
       "                                               Equity per Shark  \\\n",
       "Idea                                                              \n",
       "Frozen Momos                                           5.333333   \n",
       "Renting e-bike for mobility in private spaces         25.000000   \n",
       "\n",
       "                                               Sharks Present  \n",
       "Idea                                                           \n",
       "Frozen Momos                                                5  \n",
       "Renting e-bike for mobility in private spaces               5  "
      ]
     },
     "execution_count": 9,
     "metadata": {},
     "output_type": "execute_result"
    }
   ],
   "source": [
    "df.head(2)"
   ]
  },
  {
   "cell_type": "code",
   "execution_count": 10,
   "id": "e9fdeab0",
   "metadata": {},
   "outputs": [
    {
     "name": "stdout",
     "output_type": "stream",
     "text": [
      "<class 'pandas.core.frame.DataFrame'>\n",
      "Index: 121 entries, Frozen Momos to Translation services of Indian languages\n",
      "Data columns (total 15 columns):\n",
      " #   Column                     Non-Null Count  Dtype  \n",
      "---  ------                     --------------  -----  \n",
      " 0   Deal                       121 non-null    int64  \n",
      " 1   Receive_Offer              121 non-null    int64  \n",
      " 2   Number of presenters       121 non-null    int64  \n",
      " 3   No of male presenters      121 non-null    int64  \n",
      " 4   No of female presenters    121 non-null    int64  \n",
      " 5   Ask_Amount (INR Lakhs)     121 non-null    float64\n",
      " 6   Ask_Equity                 121 non-null    float64\n",
      " 7   Ask_Valuation (INR Lakhs)  121 non-null    float64\n",
      " 8   Deal_Amount (INR Lakhs)    121 non-null    float64\n",
      " 9   Deal_Equity                121 non-null    float64\n",
      " 10  Deal_Valuation             121 non-null    float64\n",
      " 11  Number of Sharks invested  121 non-null    int64  \n",
      " 12  Amount per Shark           121 non-null    float64\n",
      " 13  Equity per Shark           121 non-null    float64\n",
      " 14  Sharks Present             121 non-null    int64  \n",
      "dtypes: float64(8), int64(7)\n",
      "memory usage: 15.1+ KB\n"
     ]
    }
   ],
   "source": [
    "df.info()"
   ]
  },
  {
   "cell_type": "code",
   "execution_count": 11,
   "id": "51a949ae",
   "metadata": {},
   "outputs": [
    {
     "data": {
      "text/plain": [
       "Text(0.5, 1.0, 'Count of Offer Received and Rejected')"
      ]
     },
     "execution_count": 11,
     "metadata": {},
     "output_type": "execute_result"
    },
    {
     "data": {
      "image/png": "[encoded data removed]",
      "text/plain": [
       "<Figure size 432x288 with 1 Axes>"
      ]
     },
     "metadata": {
      "needs_background": "light"
     },
     "output_type": "display_data"
    }
   ],
   "source": [
    "sns.countplot(x = \"Receive_Offer\", data = df).set_title(\"Count of Offer Received and Rejected\")"
   ]
  },
  {
   "cell_type": "code",
   "execution_count": 12,
   "id": "5cee85b7",
   "metadata": {},
   "outputs": [
    {
     "data": {
      "text/plain": [
       "(0.0, 320.0)"
      ]
     },
     "execution_count": 12,
     "metadata": {},
     "output_type": "execute_result"
    },
    {
     "data": {
      "image/png": "[encoded data removed]",
      "text/plain": [
       "<Figure size 432x288 with 1 Axes>"
      ]
     },
     "metadata": {
      "needs_background": "light"
     },
     "output_type": "display_data"
    }
   ],
   "source": [
    "sns.histplot(y = \"Ask_Amount (INR Lakhs)\", x = \"Deal_Amount (INR Lakhs)\", data = df, hue = \"Receive_Offer\")\n",
    "plt.xlabel(\"Amount given by the sharks\")\n",
    "plt.ylabel(\"Amount asked by the presenters\")\n",
    "plt.title(\"Hist plot to show the overall range of offers.\")\n",
    "plt.ylim(0,320)"
   ]
  },
  {
   "cell_type": "code",
   "execution_count": 13,
   "id": "18efa9b8",
   "metadata": {},
   "outputs": [
    {
     "data": {
      "text/plain": [
       "(0.0, 25.0)"
      ]
     },
     "execution_count": 13,
     "metadata": {},
     "output_type": "execute_result"
    },
    {
     "data": {
      "image/png": "[encoded data removed]",
      "text/plain": [
       "<Figure size 432x288 with 1 Axes>"
      ]
     },
     "metadata": {
      "needs_background": "light"
     },
     "output_type": "display_data"
    }
   ],
   "source": [
    "sns.histplot(y = \"Ask_Equity\", x = \"Deal_Equity\", data = df, hue = \"Receive_Offer\")\n",
    "plt.xlabel(\"Equity given by the sharks\")\n",
    "plt.ylabel(\"Equity asked by the presenters\")\n",
    "plt.title(\"Hist plot to show the overall range of offers.\")\n",
    "plt.ylim(0,25)"
   ]
  },
  {
   "cell_type": "code",
   "execution_count": 15,
   "id": "02467953",
   "metadata": {},
   "outputs": [],
   "source": [
    "# sns.scatterplot(x = 'Ask_Amount', y = 'Deal_Amount', data = df)"
   ]
  },
  {
   "cell_type": "code",
   "execution_count": 16,
   "id": "4bbce782",
   "metadata": {},
   "outputs": [],
   "source": [
    "from sklearn.model_selection import train_test_split"
   ]
  },
  {
   "cell_type": "code",
   "execution_count": 17,
   "id": "e2b6d7e4",
   "metadata": {},
   "outputs": [],
   "source": [
    "X = df.drop([\"Receive_Offer\"], axis = 1)\n",
    "y = df[\"Receive_Offer\"]\n",
    "X_train, X_test, y_train, y_test = train_test_split(X, y, test_size=0.33, random_state=42)"
   ]
  },
  {
   "cell_type": "code",
   "execution_count": 18,
   "id": "d4b00836",
   "metadata": {},
   "outputs": [],
   "source": [
    "from sklearn.linear_model import LogisticRegression"
   ]
  },
  {
   "cell_type": "code",
   "execution_count": 19,
   "id": "32757a31",
   "metadata": {},
   "outputs": [
    {
     "name": "stdout",
     "output_type": "stream",
     "text": [
      "LogisticRegression()\n"
     ]
    },
    {
     "name": "stderr",
     "output_type": "stream",
     "text": [
      "C:\\Users\\karth\\Anaconda\\envs\\pandas_playground\\lib\\site-packages\\sklearn\\linear_model\\_logistic.py:814: ConvergenceWarning: lbfgs failed to converge (status=1):\n",
      "STOP: TOTAL NO. of ITERATIONS REACHED LIMIT.\n",
      "\n",
      "Increase the number of iterations (max_iter) or scale the data as shown in:\n",
      "    https://scikit-learn.org/stable/modules/preprocessing.html\n",
      "Please also refer to the documentation for alternative solver options:\n",
      "    https://scikit-learn.org/stable/modules/linear_model.html#logistic-regression\n",
      "  n_iter_i = _check_optimize_result(\n"
     ]
    }
   ],
   "source": [
    "log = LogisticRegression()\n",
    "print(log.fit(X_train, y_train))"
   ]
  },
  {
   "cell_type": "code",
   "execution_count": 20,
   "id": "38435fa6",
   "metadata": {},
   "outputs": [],
   "source": [
    "prediction = log.predict(X_test)"
   ]
  },
  {
   "cell_type": "code",
   "execution_count": 21,
   "id": "4f6016db",
   "metadata": {},
   "outputs": [],
   "source": [
    "from sklearn.metrics import confusion_matrix, classification_report"
   ]
  },
  {
   "cell_type": "code",
   "execution_count": 22,
   "id": "85e463db",
   "metadata": {},
   "outputs": [
    {
     "name": "stdout",
     "output_type": "stream",
     "text": [
      "[[ 9  1]\n",
      " [ 4 26]]\n"
     ]
    }
   ],
   "source": [
    "print(confusion_matrix(y_test,prediction))"
   ]
  },
  {
   "cell_type": "code",
   "execution_count": 23,
   "id": "18827ef3",
   "metadata": {},
   "outputs": [
    {
     "name": "stdout",
     "output_type": "stream",
     "text": [
      "              precision    recall  f1-score   support\n",
      "\n",
      "           0       0.69      0.90      0.78        10\n",
      "           1       0.96      0.87      0.91        30\n",
      "\n",
      "    accuracy                           0.88        40\n",
      "   macro avg       0.83      0.88      0.85        40\n",
      "weighted avg       0.90      0.88      0.88        40\n",
      "\n"
     ]
    }
   ],
   "source": [
    "print(classification_report(y_test, prediction))"
   ]
  },
  {
   "cell_type": "code",
   "execution_count": null,
   "id": "011e6c2c",
   "metadata": {},
   "outputs": [],
   "source": []
  },
  {
   "cell_type": "code",
   "execution_count": null,
   "id": "ad7a93f3",
   "metadata": {},
   "outputs": [],
   "source": []
  }
 ],
 "metadata": {
  "kernelspec": {
   "display_name": "Python 3 (ipykernel)",
   "language": "python",
   "name": "python3"
  },
  "language_info": {
   "codemirror_mode": {
    "name": "ipython",
    "version": 3
   },
   "file_extension": ".py",
   "mimetype": "text/x-python",
   "name": "python",
   "nbconvert_exporter": "python",
   "pygments_lexer": "ipython3",
   "version": "3.9.7"
  }
 },
 "nbformat": 4,
 "nbformat_minor": 5
}
