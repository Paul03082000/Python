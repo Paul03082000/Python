{
 "cells": [
  {
   "cell_type": "code",
   "execution_count": 87,
   "id": "acdfb172",
   "metadata": {},
   "outputs": [],
   "source": [
    "import pandas as pd\n",
    "import numpy as np\n",
    "from matplotlib import pyplot as plt\n",
    "import seaborn as sns"
   ]
  },
  {
   "cell_type": "code",
   "execution_count": 176,
   "id": "2289b610",
   "metadata": {},
   "outputs": [
    {
     "data": {
      "text/html": [
       "<div>\n",
       "<style scoped>\n",
       "    .dataframe tbody tr th:only-of-type {\n",
       "        vertical-align: middle;\n",
       "    }\n",
       "\n",
       "    .dataframe tbody tr th {\n",
       "        vertical-align: top;\n",
       "    }\n",
       "\n",
       "    .dataframe thead th {\n",
       "        text-align: right;\n",
       "    }\n",
       "</style>\n",
       "<table border=\"1\" class=\"dataframe\">\n",
       "  <thead>\n",
       "    <tr style=\"text-align: right;\">\n",
       "      <th></th>\n",
       "      <th>Season</th>\n",
       "      <th>Episode</th>\n",
       "      <th>Company</th>\n",
       "      <th>Deal</th>\n",
       "      <th>Receive_Offer</th>\n",
       "      <th>Reject_Offer</th>\n",
       "      <th>Number of presenters</th>\n",
       "      <th>No of male presenters</th>\n",
       "      <th>No of female presenters</th>\n",
       "      <th>Ask_Amount (INR Lakhs)</th>\n",
       "      <th>...</th>\n",
       "      <th>AshneerGrover_deal</th>\n",
       "      <th>AnupamMittal_deal</th>\n",
       "      <th>AmanGupta_deal</th>\n",
       "      <th>NamitaThapar_deal</th>\n",
       "      <th>VineetaSingh_deal</th>\n",
       "      <th>PeyushBansal_deal</th>\n",
       "      <th>GhazalAlagh_deal</th>\n",
       "      <th>Number of Sharks invested</th>\n",
       "      <th>Amount per Shark</th>\n",
       "      <th>Equity per Shark</th>\n",
       "    </tr>\n",
       "    <tr>\n",
       "      <th>Idea</th>\n",
       "      <th></th>\n",
       "      <th></th>\n",
       "      <th></th>\n",
       "      <th></th>\n",
       "      <th></th>\n",
       "      <th></th>\n",
       "      <th></th>\n",
       "      <th></th>\n",
       "      <th></th>\n",
       "      <th></th>\n",
       "      <th></th>\n",
       "      <th></th>\n",
       "      <th></th>\n",
       "      <th></th>\n",
       "      <th></th>\n",
       "      <th></th>\n",
       "      <th></th>\n",
       "      <th></th>\n",
       "      <th></th>\n",
       "      <th></th>\n",
       "      <th></th>\n",
       "    </tr>\n",
       "  </thead>\n",
       "  <tbody>\n",
       "    <tr>\n",
       "      <th>Frozen Momos</th>\n",
       "      <td>1</td>\n",
       "      <td>1</td>\n",
       "      <td>BluePine Industries</td>\n",
       "      <td>1</td>\n",
       "      <td>1</td>\n",
       "      <td>0.0</td>\n",
       "      <td>3</td>\n",
       "      <td>2</td>\n",
       "      <td>1</td>\n",
       "      <td>50.0</td>\n",
       "      <td>...</td>\n",
       "      <td>1</td>\n",
       "      <td>0</td>\n",
       "      <td>1</td>\n",
       "      <td>0</td>\n",
       "      <td>1</td>\n",
       "      <td>0</td>\n",
       "      <td>0</td>\n",
       "      <td>3</td>\n",
       "      <td>25.0</td>\n",
       "      <td>5.333333</td>\n",
       "    </tr>\n",
       "    <tr>\n",
       "      <th>Renting e-bike for mobility in private spaces</th>\n",
       "      <td>1</td>\n",
       "      <td>1</td>\n",
       "      <td>Booz scooters</td>\n",
       "      <td>1</td>\n",
       "      <td>1</td>\n",
       "      <td>0.0</td>\n",
       "      <td>1</td>\n",
       "      <td>1</td>\n",
       "      <td>0</td>\n",
       "      <td>40.0</td>\n",
       "      <td>...</td>\n",
       "      <td>1</td>\n",
       "      <td>0</td>\n",
       "      <td>0</td>\n",
       "      <td>0</td>\n",
       "      <td>1</td>\n",
       "      <td>0</td>\n",
       "      <td>0</td>\n",
       "      <td>2</td>\n",
       "      <td>20.0</td>\n",
       "      <td>25.000000</td>\n",
       "    </tr>\n",
       "  </tbody>\n",
       "</table>\n",
       "<p>2 rows × 32 columns</p>\n",
       "</div>"
      ],
      "text/plain": [
       "                                               Season  Episode  \\\n",
       "Idea                                                             \n",
       "Frozen Momos                                        1        1   \n",
       "Renting e-bike for mobility in private spaces       1        1   \n",
       "\n",
       "                                                          Company   Deal   \\\n",
       "Idea                                                                        \n",
       "Frozen Momos                                   BluePine Industries      1   \n",
       "Renting e-bike for mobility in private spaces        Booz scooters      1   \n",
       "\n",
       "                                               Receive_Offer  Reject_Offer  \\\n",
       "Idea                                                                         \n",
       "Frozen Momos                                               1           0.0   \n",
       "Renting e-bike for mobility in private spaces              1           0.0   \n",
       "\n",
       "                                               Number of presenters  \\\n",
       "Idea                                                                  \n",
       "Frozen Momos                                                      3   \n",
       "Renting e-bike for mobility in private spaces                     1   \n",
       "\n",
       "                                               No of male presenters  \\\n",
       "Idea                                                                   \n",
       "Frozen Momos                                                       2   \n",
       "Renting e-bike for mobility in private spaces                      1   \n",
       "\n",
       "                                               No of female presenters  \\\n",
       "Idea                                                                     \n",
       "Frozen Momos                                                         1   \n",
       "Renting e-bike for mobility in private spaces                        0   \n",
       "\n",
       "                                               Ask_Amount (INR Lakhs)  ...  \\\n",
       "Idea                                                                   ...   \n",
       "Frozen Momos                                                     50.0  ...   \n",
       "Renting e-bike for mobility in private spaces                    40.0  ...   \n",
       "\n",
       "                                               AshneerGrover_deal  \\\n",
       "Idea                                                                \n",
       "Frozen Momos                                                    1   \n",
       "Renting e-bike for mobility in private spaces                   1   \n",
       "\n",
       "                                               AnupamMittal_deal  \\\n",
       "Idea                                                               \n",
       "Frozen Momos                                                   0   \n",
       "Renting e-bike for mobility in private spaces                  0   \n",
       "\n",
       "                                               AmanGupta_deal  \\\n",
       "Idea                                                            \n",
       "Frozen Momos                                                1   \n",
       "Renting e-bike for mobility in private spaces               0   \n",
       "\n",
       "                                               NamitaThapar_deal  \\\n",
       "Idea                                                               \n",
       "Frozen Momos                                                   0   \n",
       "Renting e-bike for mobility in private spaces                  0   \n",
       "\n",
       "                                               VineetaSingh_deal  \\\n",
       "Idea                                                               \n",
       "Frozen Momos                                                   1   \n",
       "Renting e-bike for mobility in private spaces                  1   \n",
       "\n",
       "                                               PeyushBansal_deal  \\\n",
       "Idea                                                               \n",
       "Frozen Momos                                                   0   \n",
       "Renting e-bike for mobility in private spaces                  0   \n",
       "\n",
       "                                               GhazalAlagh_deal  \\\n",
       "Idea                                                              \n",
       "Frozen Momos                                                  0   \n",
       "Renting e-bike for mobility in private spaces                 0   \n",
       "\n",
       "                                               Number of Sharks invested  \\\n",
       "Idea                                                                       \n",
       "Frozen Momos                                                           3   \n",
       "Renting e-bike for mobility in private spaces                          2   \n",
       "\n",
       "                                               Amount per Shark   \\\n",
       "Idea                                                               \n",
       "Frozen Momos                                                25.0   \n",
       "Renting e-bike for mobility in private spaces               20.0   \n",
       "\n",
       "                                               Equity per Shark  \n",
       "Idea                                                             \n",
       "Frozen Momos                                           5.333333  \n",
       "Renting e-bike for mobility in private spaces         25.000000  \n",
       "\n",
       "[2 rows x 32 columns]"
      ]
     },
     "execution_count": 176,
     "metadata": {},
     "output_type": "execute_result"
    }
   ],
   "source": [
    "shark = pd.read_csv(r\"C:\\Users\\karth\\Desktop\\Prem_Main\\Python\\Datasets\\SharkTank-Final.csv\", index_col=\"Idea\")\n",
    "shark.head(2)"
   ]
  },
  {
   "cell_type": "code",
   "execution_count": 177,
   "id": "53abb4c2",
   "metadata": {},
   "outputs": [],
   "source": [
    "shark = shark[['Season', 'Episode', 'Deal ', 'Receive_Offer',\n",
    "       'Reject_Offer', 'Number of presenters', 'No of male presenters',\n",
    "       'No of female presenters', 'Ask_Amount (INR Lakhs)', 'Ask_Equity',\n",
    "       'Ask_Valuation (INR Lakhs)', 'Deal_Amount (INR Lakhs)', 'Deal_Equity',\n",
    "       'Deal_Valuation ', 'AshneerGrover_present', 'AnupamMittal_present',\n",
    "       'AmanGupta_present', 'NamitaThapar_present', 'VineetaSingh_present',\n",
    "       'PeyushBansal_present', 'GhazalAlagh_present', 'AshneerGrover_deal',\n",
    "       'AnupamMittal_deal', 'AmanGupta_deal', 'NamitaThapar_deal',\n",
    "       'VineetaSingh_deal', 'PeyushBansal_deal', 'GhazalAlagh_deal',\n",
    "       'Number of Sharks invested', 'Amount per Shark ', 'Equity per Shark']]"
   ]
  },
  {
   "cell_type": "code",
   "execution_count": 178,
   "id": "b8140b91",
   "metadata": {},
   "outputs": [
    {
     "data": {
      "text/html": [
       "<div>\n",
       "<style scoped>\n",
       "    .dataframe tbody tr th:only-of-type {\n",
       "        vertical-align: middle;\n",
       "    }\n",
       "\n",
       "    .dataframe tbody tr th {\n",
       "        vertical-align: top;\n",
       "    }\n",
       "\n",
       "    .dataframe thead th {\n",
       "        text-align: right;\n",
       "    }\n",
       "</style>\n",
       "<table border=\"1\" class=\"dataframe\">\n",
       "  <thead>\n",
       "    <tr style=\"text-align: right;\">\n",
       "      <th></th>\n",
       "      <th>Season</th>\n",
       "      <th>Episode</th>\n",
       "      <th>Deal</th>\n",
       "      <th>Receive_Offer</th>\n",
       "      <th>Reject_Offer</th>\n",
       "      <th>Number of presenters</th>\n",
       "      <th>No of male presenters</th>\n",
       "      <th>No of female presenters</th>\n",
       "      <th>Ask_Amount (INR Lakhs)</th>\n",
       "      <th>Ask_Equity</th>\n",
       "      <th>...</th>\n",
       "      <th>AshneerGrover_deal</th>\n",
       "      <th>AnupamMittal_deal</th>\n",
       "      <th>AmanGupta_deal</th>\n",
       "      <th>NamitaThapar_deal</th>\n",
       "      <th>VineetaSingh_deal</th>\n",
       "      <th>PeyushBansal_deal</th>\n",
       "      <th>GhazalAlagh_deal</th>\n",
       "      <th>Number of Sharks invested</th>\n",
       "      <th>Amount per Shark</th>\n",
       "      <th>Equity per Shark</th>\n",
       "    </tr>\n",
       "    <tr>\n",
       "      <th>Idea</th>\n",
       "      <th></th>\n",
       "      <th></th>\n",
       "      <th></th>\n",
       "      <th></th>\n",
       "      <th></th>\n",
       "      <th></th>\n",
       "      <th></th>\n",
       "      <th></th>\n",
       "      <th></th>\n",
       "      <th></th>\n",
       "      <th></th>\n",
       "      <th></th>\n",
       "      <th></th>\n",
       "      <th></th>\n",
       "      <th></th>\n",
       "      <th></th>\n",
       "      <th></th>\n",
       "      <th></th>\n",
       "      <th></th>\n",
       "      <th></th>\n",
       "      <th></th>\n",
       "    </tr>\n",
       "  </thead>\n",
       "  <tbody>\n",
       "    <tr>\n",
       "      <th>Frozen Momos</th>\n",
       "      <td>1</td>\n",
       "      <td>1</td>\n",
       "      <td>1</td>\n",
       "      <td>1</td>\n",
       "      <td>0.0</td>\n",
       "      <td>3</td>\n",
       "      <td>2</td>\n",
       "      <td>1</td>\n",
       "      <td>50.0</td>\n",
       "      <td>5.0</td>\n",
       "      <td>...</td>\n",
       "      <td>1</td>\n",
       "      <td>0</td>\n",
       "      <td>1</td>\n",
       "      <td>0</td>\n",
       "      <td>1</td>\n",
       "      <td>0</td>\n",
       "      <td>0</td>\n",
       "      <td>3</td>\n",
       "      <td>25.0</td>\n",
       "      <td>5.333333</td>\n",
       "    </tr>\n",
       "    <tr>\n",
       "      <th>Renting e-bike for mobility in private spaces</th>\n",
       "      <td>1</td>\n",
       "      <td>1</td>\n",
       "      <td>1</td>\n",
       "      <td>1</td>\n",
       "      <td>0.0</td>\n",
       "      <td>1</td>\n",
       "      <td>1</td>\n",
       "      <td>0</td>\n",
       "      <td>40.0</td>\n",
       "      <td>15.0</td>\n",
       "      <td>...</td>\n",
       "      <td>1</td>\n",
       "      <td>0</td>\n",
       "      <td>0</td>\n",
       "      <td>0</td>\n",
       "      <td>1</td>\n",
       "      <td>0</td>\n",
       "      <td>0</td>\n",
       "      <td>2</td>\n",
       "      <td>20.0</td>\n",
       "      <td>25.000000</td>\n",
       "    </tr>\n",
       "  </tbody>\n",
       "</table>\n",
       "<p>2 rows × 31 columns</p>\n",
       "</div>"
      ],
      "text/plain": [
       "                                               Season  Episode  Deal   \\\n",
       "Idea                                                                    \n",
       "Frozen Momos                                        1        1      1   \n",
       "Renting e-bike for mobility in private spaces       1        1      1   \n",
       "\n",
       "                                               Receive_Offer  Reject_Offer  \\\n",
       "Idea                                                                         \n",
       "Frozen Momos                                               1           0.0   \n",
       "Renting e-bike for mobility in private spaces              1           0.0   \n",
       "\n",
       "                                               Number of presenters  \\\n",
       "Idea                                                                  \n",
       "Frozen Momos                                                      3   \n",
       "Renting e-bike for mobility in private spaces                     1   \n",
       "\n",
       "                                               No of male presenters  \\\n",
       "Idea                                                                   \n",
       "Frozen Momos                                                       2   \n",
       "Renting e-bike for mobility in private spaces                      1   \n",
       "\n",
       "                                               No of female presenters  \\\n",
       "Idea                                                                     \n",
       "Frozen Momos                                                         1   \n",
       "Renting e-bike for mobility in private spaces                        0   \n",
       "\n",
       "                                               Ask_Amount (INR Lakhs)  \\\n",
       "Idea                                                                    \n",
       "Frozen Momos                                                     50.0   \n",
       "Renting e-bike for mobility in private spaces                    40.0   \n",
       "\n",
       "                                               Ask_Equity  ...  \\\n",
       "Idea                                                       ...   \n",
       "Frozen Momos                                          5.0  ...   \n",
       "Renting e-bike for mobility in private spaces        15.0  ...   \n",
       "\n",
       "                                               AshneerGrover_deal  \\\n",
       "Idea                                                                \n",
       "Frozen Momos                                                    1   \n",
       "Renting e-bike for mobility in private spaces                   1   \n",
       "\n",
       "                                               AnupamMittal_deal  \\\n",
       "Idea                                                               \n",
       "Frozen Momos                                                   0   \n",
       "Renting e-bike for mobility in private spaces                  0   \n",
       "\n",
       "                                               AmanGupta_deal  \\\n",
       "Idea                                                            \n",
       "Frozen Momos                                                1   \n",
       "Renting e-bike for mobility in private spaces               0   \n",
       "\n",
       "                                               NamitaThapar_deal  \\\n",
       "Idea                                                               \n",
       "Frozen Momos                                                   0   \n",
       "Renting e-bike for mobility in private spaces                  0   \n",
       "\n",
       "                                               VineetaSingh_deal  \\\n",
       "Idea                                                               \n",
       "Frozen Momos                                                   1   \n",
       "Renting e-bike for mobility in private spaces                  1   \n",
       "\n",
       "                                               PeyushBansal_deal  \\\n",
       "Idea                                                               \n",
       "Frozen Momos                                                   0   \n",
       "Renting e-bike for mobility in private spaces                  0   \n",
       "\n",
       "                                               GhazalAlagh_deal  \\\n",
       "Idea                                                              \n",
       "Frozen Momos                                                  0   \n",
       "Renting e-bike for mobility in private spaces                 0   \n",
       "\n",
       "                                               Number of Sharks invested  \\\n",
       "Idea                                                                       \n",
       "Frozen Momos                                                           3   \n",
       "Renting e-bike for mobility in private spaces                          2   \n",
       "\n",
       "                                               Amount per Shark   \\\n",
       "Idea                                                               \n",
       "Frozen Momos                                                25.0   \n",
       "Renting e-bike for mobility in private spaces               20.0   \n",
       "\n",
       "                                               Equity per Shark  \n",
       "Idea                                                             \n",
       "Frozen Momos                                           5.333333  \n",
       "Renting e-bike for mobility in private spaces         25.000000  \n",
       "\n",
       "[2 rows x 31 columns]"
      ]
     },
     "execution_count": 178,
     "metadata": {},
     "output_type": "execute_result"
    }
   ],
   "source": [
    "shark.head(2)"
   ]
  },
  {
   "cell_type": "code",
   "execution_count": 179,
   "id": "dd5867d1",
   "metadata": {},
   "outputs": [
    {
     "name": "stdout",
     "output_type": "stream",
     "text": [
      "<class 'pandas.core.frame.DataFrame'>\n",
      "Index: 121 entries, Frozen Momos to Translation services of Indian languages\n",
      "Data columns (total 31 columns):\n",
      " #   Column                     Non-Null Count  Dtype  \n",
      "---  ------                     --------------  -----  \n",
      " 0   Season                     121 non-null    int64  \n",
      " 1   Episode                    121 non-null    int64  \n",
      " 2   Deal                       121 non-null    int64  \n",
      " 3   Receive_Offer              121 non-null    int64  \n",
      " 4   Reject_Offer               87 non-null     float64\n",
      " 5   Number of presenters       121 non-null    int64  \n",
      " 6   No of male presenters      121 non-null    int64  \n",
      " 7   No of female presenters    121 non-null    int64  \n",
      " 8   Ask_Amount (INR Lakhs)     121 non-null    float64\n",
      " 9   Ask_Equity                 121 non-null    float64\n",
      " 10  Ask_Valuation (INR Lakhs)  121 non-null    float64\n",
      " 11  Deal_Amount (INR Lakhs)    121 non-null    float64\n",
      " 12  Deal_Equity                121 non-null    float64\n",
      " 13  Deal_Valuation             121 non-null    float64\n",
      " 14  AshneerGrover_present      121 non-null    int64  \n",
      " 15  AnupamMittal_present       121 non-null    int64  \n",
      " 16  AmanGupta_present          121 non-null    int64  \n",
      " 17  NamitaThapar_present       121 non-null    int64  \n",
      " 18  VineetaSingh_present       121 non-null    int64  \n",
      " 19  PeyushBansal_present       121 non-null    int64  \n",
      " 20  GhazalAlagh_present        121 non-null    int64  \n",
      " 21  AshneerGrover_deal         121 non-null    int64  \n",
      " 22  AnupamMittal_deal          121 non-null    int64  \n",
      " 23  AmanGupta_deal             121 non-null    int64  \n",
      " 24  NamitaThapar_deal          121 non-null    int64  \n",
      " 25  VineetaSingh_deal          121 non-null    int64  \n",
      " 26  PeyushBansal_deal          121 non-null    int64  \n",
      " 27  GhazalAlagh_deal           121 non-null    int64  \n",
      " 28  Number of Sharks invested  121 non-null    int64  \n",
      " 29  Amount per Shark           121 non-null    float64\n",
      " 30  Equity per Shark           121 non-null    float64\n",
      "dtypes: float64(9), int64(22)\n",
      "memory usage: 30.2+ KB\n"
     ]
    }
   ],
   "source": [
    "shark.info()"
   ]
  },
  {
   "cell_type": "code",
   "execution_count": 180,
   "id": "981c4993",
   "metadata": {},
   "outputs": [],
   "source": [
    "list_of_my_columns = ['AshneerGrover_present', 'AnupamMittal_present',\n",
    "       'AmanGupta_present', 'NamitaThapar_present', 'VineetaSingh_present',\n",
    "       'PeyushBansal_present', 'GhazalAlagh_present']\n",
    "shark['Sharks Present'] = shark[list_of_my_columns].sum(axis=1)"
   ]
  },
  {
   "cell_type": "code",
   "execution_count": 181,
   "id": "c66ca71a",
   "metadata": {},
   "outputs": [],
   "source": [
    "df = shark.drop(['Episode', 'AshneerGrover_present', 'AnupamMittal_present', 'AmanGupta_present', 'NamitaThapar_present',\n",
    "                'VineetaSingh_present', 'PeyushBansal_present', \"Season\"], axis=1) "
   ]
  },
  {
   "cell_type": "code",
   "execution_count": 182,
   "id": "bbf0a600",
   "metadata": {},
   "outputs": [],
   "source": [
    "df = df.drop(['GhazalAlagh_present','AnupamMittal_deal', 'AmanGupta_deal', \n",
    "                'NamitaThapar_deal', 'VineetaSingh_deal', 'PeyushBansal_deal', 'GhazalAlagh_deal', 'Reject_Offer', 'AshneerGrover_deal'],axis=1)"
   ]
  },
  {
   "cell_type": "code",
   "execution_count": 183,
   "id": "67ce34a4",
   "metadata": {},
   "outputs": [
    {
     "data": {
      "text/html": [
       "<div>\n",
       "<style scoped>\n",
       "    .dataframe tbody tr th:only-of-type {\n",
       "        vertical-align: middle;\n",
       "    }\n",
       "\n",
       "    .dataframe tbody tr th {\n",
       "        vertical-align: top;\n",
       "    }\n",
       "\n",
       "    .dataframe thead th {\n",
       "        text-align: right;\n",
       "    }\n",
       "</style>\n",
       "<table border=\"1\" class=\"dataframe\">\n",
       "  <thead>\n",
       "    <tr style=\"text-align: right;\">\n",
       "      <th></th>\n",
       "      <th>Deal</th>\n",
       "      <th>Receive_Offer</th>\n",
       "      <th>Number of presenters</th>\n",
       "      <th>No of male presenters</th>\n",
       "      <th>No of female presenters</th>\n",
       "      <th>Ask_Amount (INR Lakhs)</th>\n",
       "      <th>Ask_Equity</th>\n",
       "      <th>Ask_Valuation (INR Lakhs)</th>\n",
       "      <th>Deal_Amount (INR Lakhs)</th>\n",
       "      <th>Deal_Equity</th>\n",
       "      <th>Deal_Valuation</th>\n",
       "      <th>Number of Sharks invested</th>\n",
       "      <th>Amount per Shark</th>\n",
       "      <th>Equity per Shark</th>\n",
       "      <th>Sharks Present</th>\n",
       "    </tr>\n",
       "    <tr>\n",
       "      <th>Idea</th>\n",
       "      <th></th>\n",
       "      <th></th>\n",
       "      <th></th>\n",
       "      <th></th>\n",
       "      <th></th>\n",
       "      <th></th>\n",
       "      <th></th>\n",
       "      <th></th>\n",
       "      <th></th>\n",
       "      <th></th>\n",
       "      <th></th>\n",
       "      <th></th>\n",
       "      <th></th>\n",
       "      <th></th>\n",
       "      <th></th>\n",
       "    </tr>\n",
       "  </thead>\n",
       "  <tbody>\n",
       "    <tr>\n",
       "      <th>Frozen Momos</th>\n",
       "      <td>1</td>\n",
       "      <td>1</td>\n",
       "      <td>3</td>\n",
       "      <td>2</td>\n",
       "      <td>1</td>\n",
       "      <td>50.0</td>\n",
       "      <td>5.0</td>\n",
       "      <td>1000.00</td>\n",
       "      <td>75.0</td>\n",
       "      <td>16.0</td>\n",
       "      <td>468.75</td>\n",
       "      <td>3</td>\n",
       "      <td>25.0</td>\n",
       "      <td>5.333333</td>\n",
       "      <td>5</td>\n",
       "    </tr>\n",
       "    <tr>\n",
       "      <th>Renting e-bike for mobility in private spaces</th>\n",
       "      <td>1</td>\n",
       "      <td>1</td>\n",
       "      <td>1</td>\n",
       "      <td>1</td>\n",
       "      <td>0</td>\n",
       "      <td>40.0</td>\n",
       "      <td>15.0</td>\n",
       "      <td>266.67</td>\n",
       "      <td>40.0</td>\n",
       "      <td>50.0</td>\n",
       "      <td>80.00</td>\n",
       "      <td>2</td>\n",
       "      <td>20.0</td>\n",
       "      <td>25.000000</td>\n",
       "      <td>5</td>\n",
       "    </tr>\n",
       "  </tbody>\n",
       "</table>\n",
       "</div>"
      ],
      "text/plain": [
       "                                               Deal   Receive_Offer  \\\n",
       "Idea                                                                  \n",
       "Frozen Momos                                       1              1   \n",
       "Renting e-bike for mobility in private spaces      1              1   \n",
       "\n",
       "                                               Number of presenters  \\\n",
       "Idea                                                                  \n",
       "Frozen Momos                                                      3   \n",
       "Renting e-bike for mobility in private spaces                     1   \n",
       "\n",
       "                                               No of male presenters  \\\n",
       "Idea                                                                   \n",
       "Frozen Momos                                                       2   \n",
       "Renting e-bike for mobility in private spaces                      1   \n",
       "\n",
       "                                               No of female presenters  \\\n",
       "Idea                                                                     \n",
       "Frozen Momos                                                         1   \n",
       "Renting e-bike for mobility in private spaces                        0   \n",
       "\n",
       "                                               Ask_Amount (INR Lakhs)  \\\n",
       "Idea                                                                    \n",
       "Frozen Momos                                                     50.0   \n",
       "Renting e-bike for mobility in private spaces                    40.0   \n",
       "\n",
       "                                               Ask_Equity  \\\n",
       "Idea                                                        \n",
       "Frozen Momos                                          5.0   \n",
       "Renting e-bike for mobility in private spaces        15.0   \n",
       "\n",
       "                                               Ask_Valuation (INR Lakhs)  \\\n",
       "Idea                                                                       \n",
       "Frozen Momos                                                     1000.00   \n",
       "Renting e-bike for mobility in private spaces                     266.67   \n",
       "\n",
       "                                               Deal_Amount (INR Lakhs)  \\\n",
       "Idea                                                                     \n",
       "Frozen Momos                                                      75.0   \n",
       "Renting e-bike for mobility in private spaces                     40.0   \n",
       "\n",
       "                                               Deal_Equity  Deal_Valuation   \\\n",
       "Idea                                                                          \n",
       "Frozen Momos                                          16.0           468.75   \n",
       "Renting e-bike for mobility in private spaces         50.0            80.00   \n",
       "\n",
       "                                               Number of Sharks invested  \\\n",
       "Idea                                                                       \n",
       "Frozen Momos                                                           3   \n",
       "Renting e-bike for mobility in private spaces                          2   \n",
       "\n",
       "                                               Amount per Shark   \\\n",
       "Idea                                                               \n",
       "Frozen Momos                                                25.0   \n",
       "Renting e-bike for mobility in private spaces               20.0   \n",
       "\n",
       "                                               Equity per Shark  \\\n",
       "Idea                                                              \n",
       "Frozen Momos                                           5.333333   \n",
       "Renting e-bike for mobility in private spaces         25.000000   \n",
       "\n",
       "                                               Sharks Present  \n",
       "Idea                                                           \n",
       "Frozen Momos                                                5  \n",
       "Renting e-bike for mobility in private spaces               5  "
      ]
     },
     "execution_count": 183,
     "metadata": {},
     "output_type": "execute_result"
    }
   ],
   "source": [
    "df.head(2)"
   ]
  },
  {
   "cell_type": "code",
   "execution_count": 184,
   "id": "e9fdeab0",
   "metadata": {},
   "outputs": [
    {
     "name": "stdout",
     "output_type": "stream",
     "text": [
      "<class 'pandas.core.frame.DataFrame'>\n",
      "Index: 121 entries, Frozen Momos to Translation services of Indian languages\n",
      "Data columns (total 15 columns):\n",
      " #   Column                     Non-Null Count  Dtype  \n",
      "---  ------                     --------------  -----  \n",
      " 0   Deal                       121 non-null    int64  \n",
      " 1   Receive_Offer              121 non-null    int64  \n",
      " 2   Number of presenters       121 non-null    int64  \n",
      " 3   No of male presenters      121 non-null    int64  \n",
      " 4   No of female presenters    121 non-null    int64  \n",
      " 5   Ask_Amount (INR Lakhs)     121 non-null    float64\n",
      " 6   Ask_Equity                 121 non-null    float64\n",
      " 7   Ask_Valuation (INR Lakhs)  121 non-null    float64\n",
      " 8   Deal_Amount (INR Lakhs)    121 non-null    float64\n",
      " 9   Deal_Equity                121 non-null    float64\n",
      " 10  Deal_Valuation             121 non-null    float64\n",
      " 11  Number of Sharks invested  121 non-null    int64  \n",
      " 12  Amount per Shark           121 non-null    float64\n",
      " 13  Equity per Shark           121 non-null    float64\n",
      " 14  Sharks Present             121 non-null    int64  \n",
      "dtypes: float64(8), int64(7)\n",
      "memory usage: 15.1+ KB\n"
     ]
    }
   ],
   "source": [
    "df.info()"
   ]
  },
  {
   "cell_type": "code",
   "execution_count": 185,
   "id": "51a949ae",
   "metadata": {},
   "outputs": [
    {
     "data": {
      "text/plain": [
       "Text(0.5, 1.0, 'Count of Offer Received and Rejected')"
      ]
     },
     "execution_count": 185,
     "metadata": {},
     "output_type": "execute_result"
    },
    {
     "data": {
      "image/png": "[encoded data removed]",
      "text/plain": [
       "<Figure size 432x288 with 1 Axes>"
      ]
     },
     "metadata": {
      "needs_background": "light"
     },
     "output_type": "display_data"
    }
   ],
   "source": [
    "sns.countplot(x = \"Receive_Offer\", data = df).set_title(\"Count of Offer Received and Rejected\")"
   ]
  },
  {
   "cell_type": "code",
   "execution_count": 186,
   "id": "19375804",
   "metadata": {},
   "outputs": [
    {
     "data": {
      "text/plain": [
       "<AxesSubplot:xlabel='Idea'>"
      ]
     },
     "execution_count": 186,
     "metadata": {},
     "output_type": "execute_result"
    },
    {
     "data": {
      "image/png": "[encoded data removed]",
      "text/plain": [
       "<Figure size 432x288 with 1 Axes>"
      ]
     },
     "metadata": {
      "needs_background": "light"
     },
     "output_type": "display_data"
    }
   ],
   "source": [
    "df.plot()"
   ]
  },
  {
   "cell_type": "code",
   "execution_count": 187,
   "id": "5cee85b7",
   "metadata": {},
   "outputs": [
    {
     "data": {
      "text/plain": [
       "(0.0, 320.0)"
      ]
     },
     "execution_count": 187,
     "metadata": {},
     "output_type": "execute_result"
    },
    {
     "data": {
      "image/png": "[encoded data removed]",
      "text/plain": [
       "<Figure size 432x288 with 1 Axes>"
      ]
     },
     "metadata": {
      "needs_background": "light"
     },
     "output_type": "display_data"
    }
   ],
   "source": [
    "sns.histplot(y = \"Ask_Amount (INR Lakhs)\", x = \"Deal_Amount (INR Lakhs)\", data = df, hue = \"Receive_Offer\")\n",
    "plt.xlabel(\"Amount given by the sharks\")\n",
    "plt.ylabel(\"Amount asked by the presenters\")\n",
    "plt.title(\"Hist plot to show the overall range of offers.\")\n",
    "plt.ylim(0,320)"
   ]
  },
  {
   "cell_type": "code",
   "execution_count": 188,
   "id": "18efa9b8",
   "metadata": {},
   "outputs": [
    {
     "data": {
      "text/plain": [
       "(0.0, 25.0)"
      ]
     },
     "execution_count": 188,
     "metadata": {},
     "output_type": "execute_result"
    },
    {
     "data": {
      "image/png": "[encoded data removed]",
      "text/plain": [
       "<Figure size 432x288 with 1 Axes>"
      ]
     },
     "metadata": {
      "needs_background": "light"
     },
     "output_type": "display_data"
    }
   ],
   "source": [
    "sns.histplot(y = \"Ask_Equity\", x = \"Deal_Equity\", data = df, hue = \"Receive_Offer\")\n",
    "plt.xlabel(\"Equity given by the sharks\")\n",
    "plt.ylabel(\"Equity asked by the presenters\")\n",
    "plt.title(\"Hist plot to show the overall range of offers.\")\n",
    "plt.ylim(0,25)"
   ]
  },
  {
   "cell_type": "code",
   "execution_count": 189,
   "id": "02467953",
   "metadata": {},
   "outputs": [],
   "source": [
    "# sns.scatterplot(x = 'Ask_Amount', y = 'Deal_Amount', data = df)"
   ]
  },
  {
   "cell_type": "code",
   "execution_count": 190,
   "id": "4bbce782",
   "metadata": {},
   "outputs": [],
   "source": [
    "from sklearn.model_selection import train_test_split"
   ]
  },
  {
   "cell_type": "code",
   "execution_count": 191,
   "id": "e2b6d7e4",
   "metadata": {},
   "outputs": [],
   "source": [
    "X = df.drop([\"Receive_Offer\"], axis = 1)\n",
    "y = df[\"Receive_Offer\"]\n",
    "X_train, X_test, y_train, y_test = train_test_split(X, y, test_size=0.33, random_state=42)"
   ]
  },
  {
   "cell_type": "code",
   "execution_count": 192,
   "id": "d4b00836",
   "metadata": {},
   "outputs": [],
   "source": [
    "from sklearn.linear_model import LogisticRegression"
   ]
  },
  {
   "cell_type": "code",
   "execution_count": 193,
   "id": "32757a31",
   "metadata": {},
   "outputs": [
    {
     "name": "stdout",
     "output_type": "stream",
     "text": [
      "LogisticRegression()\n"
     ]
    },
    {
     "name": "stderr",
     "output_type": "stream",
     "text": [
      "C:\\Users\\karth\\Anaconda\\envs\\pandas_playground\\lib\\site-packages\\sklearn\\linear_model\\_logistic.py:814: ConvergenceWarning: lbfgs failed to converge (status=1):\n",
      "STOP: TOTAL NO. of ITERATIONS REACHED LIMIT.\n",
      "\n",
      "Increase the number of iterations (max_iter) or scale the data as shown in:\n",
      "    https://scikit-learn.org/stable/modules/preprocessing.html\n",
      "Please also refer to the documentation for alternative solver options:\n",
      "    https://scikit-learn.org/stable/modules/linear_model.html#logistic-regression\n",
      "  n_iter_i = _check_optimize_result(\n"
     ]
    }
   ],
   "source": [
    "log = LogisticRegression()\n",
    "print(log.fit(X_train, y_train))"
   ]
  },
  {
   "cell_type": "code",
   "execution_count": 194,
   "id": "38435fa6",
   "metadata": {},
   "outputs": [],
   "source": [
    "prediction = log.predict(X_test)"
   ]
  },
  {
   "cell_type": "code",
   "execution_count": 195,
   "id": "4f6016db",
   "metadata": {},
   "outputs": [],
   "source": [
    "from sklearn.metrics import confusion_matrix, classification_report"
   ]
  },
  {
   "cell_type": "code",
   "execution_count": 196,
   "id": "3582097c",
   "metadata": {},
   "outputs": [
    {
     "name": "stdout",
     "output_type": "stream",
     "text": [
      "[1 1 0 1 0 1 0 0 0 1 1 0 1 1 1 1 1 1 0 1 1 1 1 1 1 1 1 0 1 0 1 1 1 0 0 0 0\n",
      " 1 1 1]\n"
     ]
    }
   ],
   "source": [
    "print(prediction)"
   ]
  },
  {
   "cell_type": "code",
   "execution_count": 197,
   "id": "51e2f732",
   "metadata": {},
   "outputs": [
    {
     "name": "stdout",
     "output_type": "stream",
     "text": [
      "<class 'pandas.core.frame.DataFrame'>\n",
      "Index: 40 entries, Coconut based beverage franchise to Intelligent Skincare\n",
      "Data columns (total 14 columns):\n",
      " #   Column                     Non-Null Count  Dtype  \n",
      "---  ------                     --------------  -----  \n",
      " 0   Deal                       40 non-null     int64  \n",
      " 1   Number of presenters       40 non-null     int64  \n",
      " 2   No of male presenters      40 non-null     int64  \n",
      " 3   No of female presenters    40 non-null     int64  \n",
      " 4   Ask_Amount (INR Lakhs)     40 non-null     float64\n",
      " 5   Ask_Equity                 40 non-null     float64\n",
      " 6   Ask_Valuation (INR Lakhs)  40 non-null     float64\n",
      " 7   Deal_Amount (INR Lakhs)    40 non-null     float64\n",
      " 8   Deal_Equity                40 non-null     float64\n",
      " 9   Deal_Valuation             40 non-null     float64\n",
      " 10  Number of Sharks invested  40 non-null     int64  \n",
      " 11  Amount per Shark           40 non-null     float64\n",
      " 12  Equity per Shark           40 non-null     float64\n",
      " 13  Sharks Present             40 non-null     int64  \n",
      "dtypes: float64(8), int64(6)\n",
      "memory usage: 4.7+ KB\n"
     ]
    }
   ],
   "source": [
    "X_test.info()"
   ]
  },
  {
   "cell_type": "markdown",
   "id": "5435cd32",
   "metadata": {},
   "source": []
  },
  {
   "cell_type": "code",
   "execution_count": 198,
   "id": "a9a86d0f",
   "metadata": {},
   "outputs": [
    {
     "data": {
      "text/html": [
       "<div>\n",
       "<style scoped>\n",
       "    .dataframe tbody tr th:only-of-type {\n",
       "        vertical-align: middle;\n",
       "    }\n",
       "\n",
       "    .dataframe tbody tr th {\n",
       "        vertical-align: top;\n",
       "    }\n",
       "\n",
       "    .dataframe thead th {\n",
       "        text-align: right;\n",
       "    }\n",
       "</style>\n",
       "<table border=\"1\" class=\"dataframe\">\n",
       "  <thead>\n",
       "    <tr style=\"text-align: right;\">\n",
       "      <th></th>\n",
       "      <th>Deal</th>\n",
       "      <th>Number of presenters</th>\n",
       "      <th>No of male presenters</th>\n",
       "      <th>No of female presenters</th>\n",
       "      <th>Ask_Amount (INR Lakhs)</th>\n",
       "      <th>Ask_Equity</th>\n",
       "      <th>Ask_Valuation (INR Lakhs)</th>\n",
       "      <th>Deal_Amount (INR Lakhs)</th>\n",
       "      <th>Deal_Equity</th>\n",
       "      <th>Deal_Valuation</th>\n",
       "      <th>Number of Sharks invested</th>\n",
       "      <th>Amount per Shark</th>\n",
       "      <th>Equity per Shark</th>\n",
       "      <th>Sharks Present</th>\n",
       "    </tr>\n",
       "  </thead>\n",
       "  <tbody>\n",
       "    <tr>\n",
       "      <th>count</th>\n",
       "      <td>40.000000</td>\n",
       "      <td>40.000000</td>\n",
       "      <td>40.000000</td>\n",
       "      <td>40.000000</td>\n",
       "      <td>40.000000</td>\n",
       "      <td>40.000000</td>\n",
       "      <td>40.000000</td>\n",
       "      <td>40.000000</td>\n",
       "      <td>40.000000</td>\n",
       "      <td>40.000000</td>\n",
       "      <td>40.000000</td>\n",
       "      <td>40.000000</td>\n",
       "      <td>40.000000</td>\n",
       "      <td>40.000000</td>\n",
       "    </tr>\n",
       "    <tr>\n",
       "      <th>mean</th>\n",
       "      <td>0.575000</td>\n",
       "      <td>2.275000</td>\n",
       "      <td>1.575000</td>\n",
       "      <td>0.700000</td>\n",
       "      <td>809.450000</td>\n",
       "      <td>5.389500</td>\n",
       "      <td>6021.304000</td>\n",
       "      <td>35.550001</td>\n",
       "      <td>10.070000</td>\n",
       "      <td>606.786250</td>\n",
       "      <td>1.300000</td>\n",
       "      <td>18.725000</td>\n",
       "      <td>6.818333</td>\n",
       "      <td>5.150000</td>\n",
       "    </tr>\n",
       "    <tr>\n",
       "      <th>std</th>\n",
       "      <td>0.500641</td>\n",
       "      <td>0.933356</td>\n",
       "      <td>1.034966</td>\n",
       "      <td>0.757865</td>\n",
       "      <td>4733.864085</td>\n",
       "      <td>4.186526</td>\n",
       "      <td>19849.724716</td>\n",
       "      <td>38.031666</td>\n",
       "      <td>15.586355</td>\n",
       "      <td>1258.117919</td>\n",
       "      <td>1.343551</td>\n",
       "      <td>22.324164</td>\n",
       "      <td>14.456306</td>\n",
       "      <td>0.533494</td>\n",
       "    </tr>\n",
       "    <tr>\n",
       "      <th>min</th>\n",
       "      <td>0.000000</td>\n",
       "      <td>1.000000</td>\n",
       "      <td>0.000000</td>\n",
       "      <td>0.000000</td>\n",
       "      <td>5.000000</td>\n",
       "      <td>0.330000</td>\n",
       "      <td>100.000000</td>\n",
       "      <td>0.000000</td>\n",
       "      <td>0.000000</td>\n",
       "      <td>0.000000</td>\n",
       "      <td>0.000000</td>\n",
       "      <td>0.000000</td>\n",
       "      <td>0.000000</td>\n",
       "      <td>5.000000</td>\n",
       "    </tr>\n",
       "    <tr>\n",
       "      <th>25%</th>\n",
       "      <td>0.000000</td>\n",
       "      <td>2.000000</td>\n",
       "      <td>1.000000</td>\n",
       "      <td>0.000000</td>\n",
       "      <td>46.500000</td>\n",
       "      <td>3.000000</td>\n",
       "      <td>666.670000</td>\n",
       "      <td>0.000000</td>\n",
       "      <td>0.000000</td>\n",
       "      <td>0.000000</td>\n",
       "      <td>0.000000</td>\n",
       "      <td>0.000000</td>\n",
       "      <td>0.000000</td>\n",
       "      <td>5.000000</td>\n",
       "    </tr>\n",
       "    <tr>\n",
       "      <th>50%</th>\n",
       "      <td>1.000000</td>\n",
       "      <td>2.000000</td>\n",
       "      <td>1.000000</td>\n",
       "      <td>1.000000</td>\n",
       "      <td>50.000000</td>\n",
       "      <td>5.000000</td>\n",
       "      <td>1125.000000</td>\n",
       "      <td>32.500000</td>\n",
       "      <td>3.250000</td>\n",
       "      <td>133.335000</td>\n",
       "      <td>1.000000</td>\n",
       "      <td>13.333333</td>\n",
       "      <td>1.708333</td>\n",
       "      <td>5.000000</td>\n",
       "    </tr>\n",
       "    <tr>\n",
       "      <th>75%</th>\n",
       "      <td>1.000000</td>\n",
       "      <td>3.000000</td>\n",
       "      <td>2.000000</td>\n",
       "      <td>1.000000</td>\n",
       "      <td>90.000000</td>\n",
       "      <td>7.500000</td>\n",
       "      <td>2125.000000</td>\n",
       "      <td>57.000000</td>\n",
       "      <td>15.000000</td>\n",
       "      <td>616.667500</td>\n",
       "      <td>2.000000</td>\n",
       "      <td>29.333333</td>\n",
       "      <td>5.083333</td>\n",
       "      <td>5.000000</td>\n",
       "    </tr>\n",
       "    <tr>\n",
       "      <th>max</th>\n",
       "      <td>1.000000</td>\n",
       "      <td>4.000000</td>\n",
       "      <td>4.000000</td>\n",
       "      <td>3.000000</td>\n",
       "      <td>30000.000000</td>\n",
       "      <td>25.000000</td>\n",
       "      <td>120000.000000</td>\n",
       "      <td>105.000000</td>\n",
       "      <td>75.000000</td>\n",
       "      <td>6666.670000</td>\n",
       "      <td>5.000000</td>\n",
       "      <td>100.000000</td>\n",
       "      <td>75.000000</td>\n",
       "      <td>7.000000</td>\n",
       "    </tr>\n",
       "  </tbody>\n",
       "</table>\n",
       "</div>"
      ],
      "text/plain": [
       "           Deal   Number of presenters  No of male presenters  \\\n",
       "count  40.000000             40.000000              40.000000   \n",
       "mean    0.575000              2.275000               1.575000   \n",
       "std     0.500641              0.933356               1.034966   \n",
       "min     0.000000              1.000000               0.000000   \n",
       "25%     0.000000              2.000000               1.000000   \n",
       "50%     1.000000              2.000000               1.000000   \n",
       "75%     1.000000              3.000000               2.000000   \n",
       "max     1.000000              4.000000               4.000000   \n",
       "\n",
       "       No of female presenters  Ask_Amount (INR Lakhs)  Ask_Equity  \\\n",
       "count                40.000000               40.000000   40.000000   \n",
       "mean                  0.700000              809.450000    5.389500   \n",
       "std                   0.757865             4733.864085    4.186526   \n",
       "min                   0.000000                5.000000    0.330000   \n",
       "25%                   0.000000               46.500000    3.000000   \n",
       "50%                   1.000000               50.000000    5.000000   \n",
       "75%                   1.000000               90.000000    7.500000   \n",
       "max                   3.000000            30000.000000   25.000000   \n",
       "\n",
       "       Ask_Valuation (INR Lakhs)  Deal_Amount (INR Lakhs)  Deal_Equity  \\\n",
       "count                  40.000000                40.000000    40.000000   \n",
       "mean                 6021.304000                35.550001    10.070000   \n",
       "std                 19849.724716                38.031666    15.586355   \n",
       "min                   100.000000                 0.000000     0.000000   \n",
       "25%                   666.670000                 0.000000     0.000000   \n",
       "50%                  1125.000000                32.500000     3.250000   \n",
       "75%                  2125.000000                57.000000    15.000000   \n",
       "max                120000.000000               105.000000    75.000000   \n",
       "\n",
       "       Deal_Valuation   Number of Sharks invested  Amount per Shark   \\\n",
       "count        40.000000                  40.000000          40.000000   \n",
       "mean        606.786250                   1.300000          18.725000   \n",
       "std        1258.117919                   1.343551          22.324164   \n",
       "min           0.000000                   0.000000           0.000000   \n",
       "25%           0.000000                   0.000000           0.000000   \n",
       "50%         133.335000                   1.000000          13.333333   \n",
       "75%         616.667500                   2.000000          29.333333   \n",
       "max        6666.670000                   5.000000         100.000000   \n",
       "\n",
       "       Equity per Shark  Sharks Present  \n",
       "count         40.000000       40.000000  \n",
       "mean           6.818333        5.150000  \n",
       "std           14.456306        0.533494  \n",
       "min            0.000000        5.000000  \n",
       "25%            0.000000        5.000000  \n",
       "50%            1.708333        5.000000  \n",
       "75%            5.083333        5.000000  \n",
       "max           75.000000        7.000000  "
      ]
     },
     "execution_count": 198,
     "metadata": {},
     "output_type": "execute_result"
    }
   ],
   "source": [
    "X_test.describe()"
   ]
  },
  {
   "cell_type": "code",
   "execution_count": 199,
   "id": "85e463db",
   "metadata": {},
   "outputs": [
    {
     "name": "stdout",
     "output_type": "stream",
     "text": [
      "[[ 9  1]\n",
      " [ 4 26]]\n"
     ]
    }
   ],
   "source": [
    "print(confusion_matrix(y_test,prediction))"
   ]
  },
  {
   "cell_type": "code",
   "execution_count": 200,
   "id": "ffe0ed73",
   "metadata": {},
   "outputs": [
    {
     "name": "stderr",
     "output_type": "stream",
     "text": [
      "C:\\Users\\karth\\Anaconda\\envs\\pandas_playground\\lib\\site-packages\\sklearn\\utils\\deprecation.py:87: FutureWarning: Function plot_confusion_matrix is deprecated; Function `plot_confusion_matrix` is deprecated in 1.0 and will be removed in 1.2. Use one of the class methods: ConfusionMatrixDisplay.from_predictions or ConfusionMatrixDisplay.from_estimator.\n",
      "  warnings.warn(msg, category=FutureWarning)\n"
     ]
    },
    {
     "data": {
      "image/png": "[encoded data removed]",
      "text/plain": [
       "<Figure size 432x288 with 2 Axes>"
      ]
     },
     "metadata": {
      "needs_background": "light"
     },
     "output_type": "display_data"
    }
   ],
   "source": [
    "from sklearn.metrics import plot_confusion_matrix\n",
    "mat = plot_confusion_matrix(log, X_test, y_test)\n",
    "plt.show()"
   ]
  },
  {
   "cell_type": "code",
   "execution_count": 201,
   "id": "18827ef3",
   "metadata": {},
   "outputs": [
    {
     "name": "stdout",
     "output_type": "stream",
     "text": [
      "              precision    recall  f1-score   support\n",
      "\n",
      "           0       0.69      0.90      0.78        10\n",
      "           1       0.96      0.87      0.91        30\n",
      "\n",
      "    accuracy                           0.88        40\n",
      "   macro avg       0.83      0.88      0.85        40\n",
      "weighted avg       0.90      0.88      0.88        40\n",
      "\n"
     ]
    }
   ],
   "source": [
    "print(classification_report(y_test, prediction))"
   ]
  },
  {
   "cell_type": "code",
   "execution_count": 202,
   "id": "011e6c2c",
   "metadata": {},
   "outputs": [
    {
     "data": {
      "text/plain": [
       "0.875"
      ]
     },
     "execution_count": 202,
     "metadata": {},
     "output_type": "execute_result"
    }
   ],
   "source": [
    "log.score(X_test,y_test)"
   ]
  },
  {
   "cell_type": "code",
   "execution_count": 203,
   "id": "7b645b6d",
   "metadata": {},
   "outputs": [
    {
     "data": {
      "text/html": [
       "<div>\n",
       "<style scoped>\n",
       "    .dataframe tbody tr th:only-of-type {\n",
       "        vertical-align: middle;\n",
       "    }\n",
       "\n",
       "    .dataframe tbody tr th {\n",
       "        vertical-align: top;\n",
       "    }\n",
       "\n",
       "    .dataframe thead th {\n",
       "        text-align: right;\n",
       "    }\n",
       "</style>\n",
       "<table border=\"1\" class=\"dataframe\">\n",
       "  <thead>\n",
       "    <tr style=\"text-align: right;\">\n",
       "      <th></th>\n",
       "      <th>Deal</th>\n",
       "      <th>Number of presenters</th>\n",
       "      <th>No of male presenters</th>\n",
       "      <th>No of female presenters</th>\n",
       "      <th>Ask_Amount (INR Lakhs)</th>\n",
       "      <th>Ask_Equity</th>\n",
       "      <th>Ask_Valuation (INR Lakhs)</th>\n",
       "      <th>Deal_Amount (INR Lakhs)</th>\n",
       "      <th>Deal_Equity</th>\n",
       "      <th>Deal_Valuation</th>\n",
       "      <th>Number of Sharks invested</th>\n",
       "      <th>Amount per Shark</th>\n",
       "      <th>Equity per Shark</th>\n",
       "      <th>Sharks Present</th>\n",
       "    </tr>\n",
       "    <tr>\n",
       "      <th>Idea</th>\n",
       "      <th></th>\n",
       "      <th></th>\n",
       "      <th></th>\n",
       "      <th></th>\n",
       "      <th></th>\n",
       "      <th></th>\n",
       "      <th></th>\n",
       "      <th></th>\n",
       "      <th></th>\n",
       "      <th></th>\n",
       "      <th></th>\n",
       "      <th></th>\n",
       "      <th></th>\n",
       "      <th></th>\n",
       "    </tr>\n",
       "  </thead>\n",
       "  <tbody>\n",
       "    <tr>\n",
       "      <th>Coconut based beverage franchise</th>\n",
       "      <td>1</td>\n",
       "      <td>3</td>\n",
       "      <td>3</td>\n",
       "      <td>0</td>\n",
       "      <td>5.0</td>\n",
       "      <td>5.0</td>\n",
       "      <td>100.0</td>\n",
       "      <td>0.00005</td>\n",
       "      <td>5.0</td>\n",
       "      <td>0.0</td>\n",
       "      <td>3</td>\n",
       "      <td>0.000017</td>\n",
       "      <td>1.666667</td>\n",
       "      <td>5</td>\n",
       "    </tr>\n",
       "    <tr>\n",
       "      <th>Liquid Water Enhancer</th>\n",
       "      <td>1</td>\n",
       "      <td>2</td>\n",
       "      <td>1</td>\n",
       "      <td>1</td>\n",
       "      <td>75.0</td>\n",
       "      <td>4.0</td>\n",
       "      <td>1875.0</td>\n",
       "      <td>75.00000</td>\n",
       "      <td>15.0</td>\n",
       "      <td>500.0</td>\n",
       "      <td>2</td>\n",
       "      <td>37.500000</td>\n",
       "      <td>7.500000</td>\n",
       "      <td>5</td>\n",
       "    </tr>\n",
       "    <tr>\n",
       "      <th>Brain Development Course</th>\n",
       "      <td>0</td>\n",
       "      <td>4</td>\n",
       "      <td>1</td>\n",
       "      <td>3</td>\n",
       "      <td>50.0</td>\n",
       "      <td>5.0</td>\n",
       "      <td>1000.0</td>\n",
       "      <td>0.00000</td>\n",
       "      <td>0.0</td>\n",
       "      <td>0.0</td>\n",
       "      <td>0</td>\n",
       "      <td>0.000000</td>\n",
       "      <td>0.000000</td>\n",
       "      <td>5</td>\n",
       "    </tr>\n",
       "    <tr>\n",
       "      <th>Electric Auto Vehicle</th>\n",
       "      <td>1</td>\n",
       "      <td>2</td>\n",
       "      <td>2</td>\n",
       "      <td>0</td>\n",
       "      <td>100.0</td>\n",
       "      <td>1.0</td>\n",
       "      <td>10000.0</td>\n",
       "      <td>1.00000</td>\n",
       "      <td>1.0</td>\n",
       "      <td>100.0</td>\n",
       "      <td>1</td>\n",
       "      <td>1.000000</td>\n",
       "      <td>1.000000</td>\n",
       "      <td>5</td>\n",
       "    </tr>\n",
       "    <tr>\n",
       "      <th>Healthy Oils</th>\n",
       "      <td>0</td>\n",
       "      <td>2</td>\n",
       "      <td>1</td>\n",
       "      <td>1</td>\n",
       "      <td>100.0</td>\n",
       "      <td>5.0</td>\n",
       "      <td>2000.0</td>\n",
       "      <td>0.00000</td>\n",
       "      <td>0.0</td>\n",
       "      <td>0.0</td>\n",
       "      <td>0</td>\n",
       "      <td>0.000000</td>\n",
       "      <td>0.000000</td>\n",
       "      <td>5</td>\n",
       "    </tr>\n",
       "  </tbody>\n",
       "</table>\n",
       "</div>"
      ],
      "text/plain": [
       "                                  Deal   Number of presenters  \\\n",
       "Idea                                                            \n",
       "Coconut based beverage franchise      1                     3   \n",
       "Liquid Water Enhancer                 1                     2   \n",
       "Brain Development Course              0                     4   \n",
       "Electric Auto Vehicle                 1                     2   \n",
       "Healthy Oils                          0                     2   \n",
       "\n",
       "                                  No of male presenters  \\\n",
       "Idea                                                      \n",
       "Coconut based beverage franchise                      3   \n",
       "Liquid Water Enhancer                                 1   \n",
       "Brain Development Course                              1   \n",
       "Electric Auto Vehicle                                 2   \n",
       "Healthy Oils                                          1   \n",
       "\n",
       "                                  No of female presenters  \\\n",
       "Idea                                                        \n",
       "Coconut based beverage franchise                        0   \n",
       "Liquid Water Enhancer                                   1   \n",
       "Brain Development Course                                3   \n",
       "Electric Auto Vehicle                                   0   \n",
       "Healthy Oils                                            1   \n",
       "\n",
       "                                  Ask_Amount (INR Lakhs)  Ask_Equity  \\\n",
       "Idea                                                                   \n",
       "Coconut based beverage franchise                     5.0         5.0   \n",
       "Liquid Water Enhancer                               75.0         4.0   \n",
       "Brain Development Course                            50.0         5.0   \n",
       "Electric Auto Vehicle                              100.0         1.0   \n",
       "Healthy Oils                                       100.0         5.0   \n",
       "\n",
       "                                  Ask_Valuation (INR Lakhs)  \\\n",
       "Idea                                                          \n",
       "Coconut based beverage franchise                      100.0   \n",
       "Liquid Water Enhancer                                1875.0   \n",
       "Brain Development Course                             1000.0   \n",
       "Electric Auto Vehicle                               10000.0   \n",
       "Healthy Oils                                         2000.0   \n",
       "\n",
       "                                  Deal_Amount (INR Lakhs)  Deal_Equity  \\\n",
       "Idea                                                                     \n",
       "Coconut based beverage franchise                  0.00005          5.0   \n",
       "Liquid Water Enhancer                            75.00000         15.0   \n",
       "Brain Development Course                          0.00000          0.0   \n",
       "Electric Auto Vehicle                             1.00000          1.0   \n",
       "Healthy Oils                                      0.00000          0.0   \n",
       "\n",
       "                                  Deal_Valuation   Number of Sharks invested  \\\n",
       "Idea                                                                           \n",
       "Coconut based beverage franchise              0.0                          3   \n",
       "Liquid Water Enhancer                       500.0                          2   \n",
       "Brain Development Course                      0.0                          0   \n",
       "Electric Auto Vehicle                       100.0                          1   \n",
       "Healthy Oils                                  0.0                          0   \n",
       "\n",
       "                                  Amount per Shark   Equity per Shark  \\\n",
       "Idea                                                                    \n",
       "Coconut based beverage franchise           0.000017          1.666667   \n",
       "Liquid Water Enhancer                     37.500000          7.500000   \n",
       "Brain Development Course                   0.000000          0.000000   \n",
       "Electric Auto Vehicle                      1.000000          1.000000   \n",
       "Healthy Oils                               0.000000          0.000000   \n",
       "\n",
       "                                  Sharks Present  \n",
       "Idea                                              \n",
       "Coconut based beverage franchise               5  \n",
       "Liquid Water Enhancer                          5  \n",
       "Brain Development Course                       5  \n",
       "Electric Auto Vehicle                          5  \n",
       "Healthy Oils                                   5  "
      ]
     },
     "execution_count": 203,
     "metadata": {},
     "output_type": "execute_result"
    }
   ],
   "source": [
    "X_test.head()"
   ]
  },
  {
   "cell_type": "code",
   "execution_count": 204,
   "id": "ee63b544",
   "metadata": {},
   "outputs": [],
   "source": [
    "import random"
   ]
  },
  {
   "cell_type": "code",
   "execution_count": 205,
   "id": "cf6c189e",
   "metadata": {},
   "outputs": [],
   "source": [
    "fdeal = []\n",
    "for i in range(1,11):\n",
    "    fdeal.append(random.randint(0,1))"
   ]
  },
  {
   "cell_type": "code",
   "execution_count": 206,
   "id": "a989b1fa",
   "metadata": {},
   "outputs": [],
   "source": [
    "fpresenters = []\n",
    "for i in range(1,11):\n",
    "    fpresenters.append(random.randint(1,4))"
   ]
  },
  {
   "cell_type": "code",
   "execution_count": 207,
   "id": "59ee81c0",
   "metadata": {},
   "outputs": [],
   "source": [
    "fMale_presenters = []\n",
    "for i in fpresenters:\n",
    "    if(i == 1):\n",
    "        fMale_presenters.append(i)\n",
    "    elif(i > 1):\n",
    "        fMale_presenters.append(random.randint(1,2))"
   ]
  },
  {
   "cell_type": "code",
   "execution_count": 208,
   "id": "3e787d55",
   "metadata": {},
   "outputs": [],
   "source": [
    "fFemale_presenters = []\n",
    "for i, j in zip(fpresenters, fMale_presenters):\n",
    "    fFemale_presenters.append(i-j)"
   ]
  },
  {
   "cell_type": "code",
   "execution_count": 209,
   "id": "f574595b",
   "metadata": {},
   "outputs": [],
   "source": [
    "fask_money = [0, 100, 1200, 75, 20000, 18000, 0, 2300, 4500, 10]"
   ]
  },
  {
   "cell_type": "code",
   "execution_count": 210,
   "id": "c9fbbf31",
   "metadata": {},
   "outputs": [],
   "source": [
    "fask_equity = [0, 10, 23, 12, 0, 14, 20, 4, 3, 0]"
   ]
  },
  {
   "cell_type": "code",
   "execution_count": 211,
   "id": "438d4b32",
   "metadata": {},
   "outputs": [],
   "source": [
    "fask_valuation = [100, 12, 45000, 12000, 0, 0, 0, 45001, 2300, 0]"
   ]
  },
  {
   "cell_type": "code",
   "execution_count": 212,
   "id": "53b647ce",
   "metadata": {},
   "outputs": [],
   "source": [
    "fdeal_amount = [1, 0, 45, 0, 30, 10, 20, 75, 100, 0]"
   ]
  },
  {
   "cell_type": "code",
   "execution_count": 213,
   "id": "1f223662",
   "metadata": {},
   "outputs": [],
   "source": [
    "fdeal_equity = [1, 0, 56, 0, 45, 23, 75, 12, 78, 0]"
   ]
  },
  {
   "cell_type": "code",
   "execution_count": 214,
   "id": "72fa2380",
   "metadata": {},
   "outputs": [],
   "source": [
    "fdeal_valuation = [12, 0, 5000, 0, 4500, 100, 3000, 0, 1200, 0]"
   ]
  },
  {
   "cell_type": "code",
   "execution_count": 215,
   "id": "4377c40c",
   "metadata": {},
   "outputs": [],
   "source": [
    "fsharks_invested = [1, 0, 2, 0, 4, 3, 1, 0, 0, 3]"
   ]
  },
  {
   "cell_type": "code",
   "execution_count": 216,
   "id": "db5b2b09",
   "metadata": {},
   "outputs": [],
   "source": [
    "famount_per_shark = [40, 0, 65, 0, 12, 75, 53, 23, 56, 0]\n"
   ]
  },
  {
   "cell_type": "code",
   "execution_count": 217,
   "id": "64da91b8",
   "metadata": {},
   "outputs": [],
   "source": [
    "fequity_per_shark = [56, 0, 45, 0, 23, 12, 45, 23, 45, 0]"
   ]
  },
  {
   "cell_type": "code",
   "execution_count": 218,
   "id": "eb736955",
   "metadata": {},
   "outputs": [],
   "source": [
    "fsharks_present = [5, 7, 7, 7, 7, 7, 7, 5, 7, 7]"
   ]
  },
  {
   "cell_type": "code",
   "execution_count": 222,
   "id": "c352770c",
   "metadata": {},
   "outputs": [],
   "source": [
    "future_data = pd.DataFrame(\n",
    "    {'Deal': fdeal,\n",
    "     'Number of presenters': fpresenters,\n",
    "     'No of male presenters': fMale_presenters,\n",
    "     'No of female presenters': fFemale_presenters,\n",
    "     'Ask_Amount (INR Lakhs)': fask_money,\n",
    "     'Ask_Equity': fask_equity,\n",
    "     'Ask_Valuation (INR Lakhs)': fask_valuation,\n",
    "     'Deal_Amount (INR Lakhs)': fdeal_amount,\n",
    "     'Deal_Equity': fdeal_valuation,\n",
    "     'Deal_Valuation': fdeal_valuation,\n",
    "     'Number of Sharks invested': fsharks_invested,\n",
    "     'Amount per Shark': famount_per_shark,\n",
    "     'Equity per Shark': fequity_per_shark,\n",
    "     'Sharks Present': fsharks_present\n",
    "    })"
   ]
  },
  {
   "cell_type": "code",
   "execution_count": 228,
   "id": "a349c5e8",
   "metadata": {},
   "outputs": [
    {
     "name": "stderr",
     "output_type": "stream",
     "text": [
      "C:\\Users\\karth\\Anaconda\\envs\\pandas_playground\\lib\\site-packages\\sklearn\\base.py:493: FutureWarning: The feature names should match those that were passed during fit. Starting version 1.2, an error will be raised.\n",
      "Feature names unseen at fit time:\n",
      "- Amount per Shark\n",
      "- Deal\n",
      "- Deal_Valuation\n",
      "Feature names seen at fit time, yet now missing:\n",
      "- Amount per Shark \n",
      "- Deal \n",
      "- Deal_Valuation \n",
      "\n",
      "  warnings.warn(message, FutureWarning)\n"
     ]
    }
   ],
   "source": [
    "predess = log.predict(future_data)"
   ]
  },
  {
   "cell_type": "code",
   "execution_count": 229,
   "id": "5339781a",
   "metadata": {},
   "outputs": [
    {
     "data": {
      "text/plain": [
       "array([1, 0, 1, 0, 1, 0, 1, 0, 1, 1], dtype=int64)"
      ]
     },
     "execution_count": 229,
     "metadata": {},
     "output_type": "execute_result"
    }
   ],
   "source": [
    "predess"
   ]
  },
  {
   "cell_type": "code",
   "execution_count": 226,
   "id": "f4e84069",
   "metadata": {},
   "outputs": [
    {
     "name": "stderr",
     "output_type": "stream",
     "text": [
      "C:\\Users\\karth\\Anaconda\\envs\\pandas_playground\\lib\\site-packages\\seaborn\\_decorators.py:36: FutureWarning: Pass the following variable as a keyword arg: x. From version 0.12, the only valid positional argument will be `data`, and passing other arguments without an explicit keyword will result in an error or misinterpretation.\n",
      "  warnings.warn(\n"
     ]
    },
    {
     "data": {
      "text/plain": [
       "<AxesSubplot:ylabel='count'>"
      ]
     },
     "execution_count": 226,
     "metadata": {},
     "output_type": "execute_result"
    },
    {
     "data": {
      "image/png": "[encoded data removed]",
      "text/plain": [
       "<Figure size 432x288 with 1 Axes>"
      ]
     },
     "metadata": {
      "needs_background": "light"
     },
     "output_type": "display_data"
    }
   ],
   "source": [
    "sns.countplot(predess)"
   ]
  },
  {
   "cell_type": "code",
   "execution_count": 221,
   "id": "8893886e",
   "metadata": {},
   "outputs": [
    {
     "data": {
      "text/plain": [
       "array([1, 0, 1, 0, 1, 0, 1, 0, 1, 1], dtype=int64)"
      ]
     },
     "execution_count": 221,
     "metadata": {},
     "output_type": "execute_result"
    }
   ],
   "source": [
    "predess"
   ]
  },
  {
   "cell_type": "code",
   "execution_count": 172,
   "id": "b44a63f7",
   "metadata": {},
   "outputs": [
    {
     "name": "stdout",
     "output_type": "stream",
     "text": [
      "1\n",
      "2\n",
      "3\n",
      "4\n",
      "5\n",
      "6\n",
      "7\n",
      "8\n",
      "9\n"
     ]
    }
   ],
   "source": [
    "for i in range(1,10):\n",
    "    print(i)"
   ]
  },
  {
   "cell_type": "code",
   "execution_count": null,
   "id": "7b5c5895",
   "metadata": {},
   "outputs": [],
   "source": []
  }
 ],
 "metadata": {
  "kernelspec": {
   "display_name": "Python 3 (ipykernel)",
   "language": "python",
   "name": "python3"
  },
  "language_info": {
   "codemirror_mode": {
    "name": "ipython",
    "version": 3
   },
   "file_extension": ".py",
   "mimetype": "text/x-python",
   "name": "python",
   "nbconvert_exporter": "python",
   "pygments_lexer": "ipython3",
   "version": "3.9.7"
  }
 },
 "nbformat": 4,
 "nbformat_minor": 5
}
