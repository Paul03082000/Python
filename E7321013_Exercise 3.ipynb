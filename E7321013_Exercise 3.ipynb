{
 "cells": [
  {
   "cell_type": "code",
   "execution_count": 1,
   "id": "54349b69",
   "metadata": {},
   "outputs": [
    {
     "name": "stdout",
     "output_type": "stream",
     "text": [
      "Have \n",
      "a \n",
      "good \n",
      "day\n"
     ]
    }
   ],
   "source": [
    "#1. display string one below another\n",
    "mystring = \"Have \\na \\ngood \\nday\"\n",
    "print(mystring)"
   ]
  },
  {
   "cell_type": "code",
   "execution_count": 2,
   "id": "2bec348f",
   "metadata": {},
   "outputs": [
    {
     "name": "stdout",
     "output_type": "stream",
     "text": [
      "12\n"
     ]
    }
   ],
   "source": [
    "#2. find length wothout the length function\n",
    "string = \"refrigerator\"\n",
    "count = 0\n",
    "for i in string:\n",
    "    count += 1\n",
    "print(count)"
   ]
  },
  {
   "cell_type": "code",
   "execution_count": 3,
   "id": "847e1d39",
   "metadata": {},
   "outputs": [
    {
     "name": "stdout",
     "output_type": "stream",
     "text": [
      "yes! it is present\n"
     ]
    }
   ],
   "source": [
    "#3. check if word present in a string\n",
    "sentence = \"This is orange juice\"\n",
    "orange = \"orange\"\n",
    "if orange in sentence:\n",
    "    print(\"yes! it is present\")\n",
    "else:\n",
    "    print(\"no it is not\")"
   ]
  },
  {
   "cell_type": "code",
   "execution_count": 4,
   "id": "2bb192bf",
   "metadata": {},
   "outputs": [
    {
     "name": "stdout",
     "output_type": "stream",
     "text": [
      "Enter your full name with space: robert downey junior\n",
      "R.D.Junior\n"
     ]
    }
   ],
   "source": [
    "#4. abbrevate name\n",
    "fullname = input(\"Enter your full name with space: \")\n",
    "firstname, middlename, lastname = fullname.split(sep = \" \")\n",
    "firstname = firstname.upper() \n",
    "middlename = middlename.upper()\n",
    "lastname = lastname.capitalize()\n",
    "firstname = firstname[0]\n",
    "middlename = middlename[0]\n",
    "aname = firstname + \".\" + middlename + \".\" + lastname\n",
    "print(aname)"
   ]
  },
  {
   "cell_type": "code",
   "execution_count": 5,
   "id": "7da334fa",
   "metadata": {},
   "outputs": [
    {
     "name": "stdout",
     "output_type": "stream",
     "text": [
      "Hll, hv  gd dy\n"
     ]
    }
   ],
   "source": [
    "#5. delete vowels from string\n",
    "string = \"Hello, have a good day\"\n",
    "consonent = \"aeiou\"\n",
    "for i in consonent:\n",
    "    if i in string:\n",
    "        string = string.replace(i, \"\")\n",
    "print(string)"
   ]
  },
  {
   "cell_type": "code",
   "execution_count": 6,
   "id": "911c48dd",
   "metadata": {},
   "outputs": [
    {
     "name": "stdout",
     "output_type": "stream",
     "text": [
      "Count of positive numbers:  11\n",
      "Count of negative numbers:  6\n",
      "Count of odd numbers:  6\n",
      "Count of even numbers:  5\n",
      "Count of zeros:  3\n"
     ]
    }
   ],
   "source": [
    "#6. find the count of type of a number\n",
    "l = [1, 0, -4, 16, 7, -9, 17, 6, -5, 0 , 20 , 23, -15, 13, 12, -1, 14, 0, 5, -5]\n",
    "count_positive_numbers = 0\n",
    "count_negative_numbers = 0\n",
    "count_odd_numbers = 0\n",
    "count_even_numbers = 0\n",
    "count_zeros = 0\n",
    "for i in l:\n",
    "    if i > 0:\n",
    "        count_positive_numbers += 1\n",
    "        if i % 2 == 0:\n",
    "            count_even_numbers += 1\n",
    "        else:\n",
    "            count_odd_numbers += 1\n",
    "    elif i < 0:\n",
    "        count_negative_numbers += 1\n",
    "    elif i == 0:\n",
    "        count_zeros += 1\n",
    "    else:\n",
    "        print(\"Something went wrong\")\n",
    "print(\"Count of positive numbers: \", count_positive_numbers)\n",
    "print(\"Count of negative numbers: \", count_negative_numbers)\n",
    "print(\"Count of odd numbers: \", count_odd_numbers)\n",
    "print(\"Count of even numbers: \", count_even_numbers)\n",
    "print(\"Count of zeros: \", count_zeros)"
   ]
  },
  {
   "cell_type": "code",
   "execution_count": 7,
   "id": "5e54f07a",
   "metadata": {},
   "outputs": [
    {
     "name": "stdout",
     "output_type": "stream",
     "text": [
      "95\n"
     ]
    }
   ],
   "source": [
    "#7. find the sum of elements\n",
    "Sum = sum(l)\n",
    "print(Sum)"
   ]
  },
  {
   "cell_type": "code",
   "execution_count": 8,
   "id": "f901f138",
   "metadata": {},
   "outputs": [
    {
     "name": "stdout",
     "output_type": "stream",
     "text": [
      "Enter the numbers continued with comma: 1,2,3,2,1,3,12,12,32\n",
      "['1', '2', '3', '2', '1', '3', '12', '12', '32']\n",
      "['1', '2', '3', '12', '32']\n"
     ]
    }
   ],
   "source": [
    "#8. remove duplicates\n",
    "numbers = input(\"Enter the numbers continued with comma: \")\n",
    "numbersl = numbers.split(sep = \",\")\n",
    "print(numbersl)\n",
    "def duplicate_finder(numbersl):\n",
    "    empty = []\n",
    "    for i in numbersl:\n",
    "        if i not in empty:\n",
    "            empty.append(i)\n",
    "    return empty\n",
    "print(duplicate_finder(numbersl))"
   ]
  },
  {
   "cell_type": "code",
   "execution_count": 2,
   "id": "373765b9",
   "metadata": {},
   "outputs": [
    {
     "name": "stdout",
     "output_type": "stream",
     "text": [
      "Enter the message for encryption: goodmorning\n",
      "Encrypted Text:   hppenpsojoh\n",
      "Enter the encrypted text: hppenpsojoh\n",
      "Plain Text:  goodmorning\n",
      "Key for encryption: crypting = (index + step) % 26\n",
      "Key for decryption: crypting = (index - step) % 26\n",
      "Decrypted Text:   goodmorning\n"
     ]
    }
   ],
   "source": [
    "#9. caesar cipher\n",
    "uppercase = ['A', 'B', 'C', 'D', 'E', 'F', 'G', 'H', 'I', 'J', 'K', 'L', 'M', 'N', 'O', 'P', 'Q', 'R', 'S', 'T', 'U', 'V', 'W', 'X', 'Y', 'Z']\n",
    "lowercase = ['a', 'b', 'c', 'd', 'e', 'f', 'g', 'h', 'i', 'j', 'k', 'l', 'm', 'n', 'o', 'p', 'q', 'r', 's', 't', 'u', 'v', 'w', 'x', 'y', 'z']\n",
    "step = 1\n",
    "crypt = []\n",
    "text = []\n",
    "encrypted_text = \" \"\n",
    "inputtext = input(\"Enter the message for encryption: \")\n",
    "for i in inputtext:\n",
    "    if i in uppercase:\n",
    "        index = uppercase.index(i)\n",
    "        crypting = (index + step) % 26\n",
    "        crypt.append(crypting)\n",
    "        newtext = uppercase[crypting]\n",
    "        text.append(newtext)\n",
    "    elif i in lowercase:\n",
    "        index = lowercase.index(i)\n",
    "        crypting = (index + step) % 26\n",
    "        crypt.append(crypting)\n",
    "        newtext = lowercase[crypting]\n",
    "        text.append(newtext)\n",
    "        encrypted_text += newtext\n",
    "print(\"Encrypted Text: \", encrypted_text)\n",
    "text_to_decrypt = input(\"Enter the encrypted text: \")\n",
    "decrypt = []\n",
    "retext = []\n",
    "decrypted_text = \" \"\n",
    "for i in text_to_decrypt:\n",
    "    if i in uppercase:\n",
    "        index = uppercase.index(i)\n",
    "        crypting = (index - step) % 26\n",
    "        decrypt.append(crypting)\n",
    "        newtext = uppercase[crypting]\n",
    "        retext.append(newtext)\n",
    "    elif i in lowercase:\n",
    "        index = lowercase.index(i)\n",
    "        crypting = (index - step) % 26\n",
    "        crypt.append(crypting)\n",
    "        newtext = lowercase[crypting]\n",
    "        text.append(newtext)\n",
    "        decrypted_text += newtext\n",
    "print(\"Plain Text: \", inputtext)\n",
    "print(\"Key for encryption: crypting = (index + step) % 26\")\n",
    "print(\"Key for decryption: crypting = (index - step) % 26\")\n",
    "print(\"Decrypted Text: \", decrypted_text)"
   ]
  },
  {
   "cell_type": "code",
   "execution_count": 9,
   "id": "81915e4a",
   "metadata": {},
   "outputs": [
    {
     "name": "stdout",
     "output_type": "stream",
     "text": [
      "Apple\n",
      "Mango\n",
      "Banana\n",
      "Pineapple\n",
      "Watermelon\n",
      "\n",
      "Enter the name of the product: Watermelon\n",
      "Name of the product:  Watermelon\n",
      "Price of the product:  60\n"
     ]
    }
   ],
   "source": [
    "#10. price finder\n",
    "product_list = [\"Apple\", \"Mango\", \"Banana\", \"Pineapple\", \"Watermelon\"]\n",
    "for i in product_list:\n",
    "    print(i)\n",
    "price_list = [10, 30, 15, 50, 60]\n",
    "fruit = input(\"\\nEnter the name of the product: \")\n",
    "if fruit not in product_list:\n",
    "    print(\"The product you entered is out of stock\")\n",
    "else:\n",
    "    ind = product_list.index(fruit)\n",
    "print(\"Name of the product: \", fruit)\n",
    "print(\"Price of the product: \",price_list[ind])"
   ]
  },
  {
   "cell_type": "code",
   "execution_count": null,
   "id": "a2003134",
   "metadata": {},
   "outputs": [],
   "source": []
  },
  {
   "cell_type": "code",
   "execution_count": null,
   "id": "1307cf7a",
   "metadata": {},
   "outputs": [],
   "source": []
  },
  {
   "cell_type": "code",
   "execution_count": null,
   "id": "574c5409",
   "metadata": {},
   "outputs": [],
   "source": []
  }
 ],
 "metadata": {
  "kernelspec": {
   "display_name": "Python 3",
   "language": "python",
   "name": "python3"
  },
  "language_info": {
   "codemirror_mode": {
    "name": "ipython",
    "version": 3
   },
   "file_extension": ".py",
   "mimetype": "text/x-python",
   "name": "python",
   "nbconvert_exporter": "python",
   "pygments_lexer": "ipython3",
   "version": "3.9.6"
  }
 },
 "nbformat": 4,
 "nbformat_minor": 5
}
