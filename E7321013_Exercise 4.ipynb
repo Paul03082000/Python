{
 "cells": [
  {
   "cell_type": "code",
   "execution_count": 2,
   "id": "c5b37155",
   "metadata": {},
   "outputs": [
    {
     "name": "stdout",
     "output_type": "stream",
     "text": [
      "Enter name of product with spaces: onion tomato curd milk lemon\n",
      "Enter cost of product with spaces: 40 35 40 45 80\n",
      "The item which consumes more expense is  lemon\n",
      "Enter the budget amount: 190\n",
      "The expense is greater than the budget.\n",
      "The item which must be avoided to keep up within the budgeted list are: \n",
      "onion\n",
      "tomato\n"
     ]
    }
   ],
   "source": [
    "#1\n",
    "name = list(map(str, input(\"Enter name of product with spaces: \").split()))\n",
    "cost = list(map(int, input(\"Enter cost of product with spaces: \").split()))\n",
    "print(\"The item which consumes more expense is \",name[cost.index(max(cost))])\n",
    "budget = int(input(\"Enter the budget amount: \"))\n",
    "total = sum(cost)\n",
    "if total < budget:\n",
    "    print(\"The expence is lesser than the budget.\")\n",
    "elif total == budget:\n",
    "    print(\"The expence and the budget are the same.\")\n",
    "else:\n",
    "    print(\"The expense is greater than the budget.\")\n",
    "    replica = total\n",
    "    print(\"The item which must be avoided to keep up within the budgeted list are: \")\n",
    "    for i in cost:\n",
    "        if replica >= budget:\n",
    "            print(name[cost.index(i)])\n",
    "            replica = replica - i\n",
    "        else: \n",
    "            break"
   ]
  },
  {
   "cell_type": "code",
   "execution_count": 2,
   "id": "5e6c72c4",
   "metadata": {},
   "outputs": [
    {
     "name": "stdout",
     "output_type": "stream",
     "text": [
      "Enter the list of numbers with spaces1 2 3 4 5 6 1 2 3 2 1 4\n",
      "The list without duplicates are  [1, 2, 3, 4, 5, 6]\n"
     ]
    }
   ],
   "source": [
    "#2\n",
    "original = list(map(int, input(\"Enter the list of numbers with spaces\").split()))\n",
    "checks = []\n",
    "for i in original:\n",
    "    if i not in checks:\n",
    "        checks.append(i)\n",
    "print(\"The list without duplicates are \", checks)"
   ]
  },
  {
   "cell_type": "code",
   "execution_count": null,
   "id": "eb4121b3",
   "metadata": {},
   "outputs": [],
   "source": []
  },
  {
   "cell_type": "code",
   "execution_count": 4,
   "id": "a263e4d9",
   "metadata": {},
   "outputs": [
    {
     "name": "stdout",
     "output_type": "stream",
     "text": [
      "Mount Everest\n",
      "K2\n",
      "Kangchenjunga\n",
      "Lhotse\n",
      "Makalu\n",
      "8848\n",
      "8611\n",
      "8586\n",
      "8516\n",
      "8485\n",
      "K2 is 8611 meters tall\n",
      "Kangchenjunga is 8586 meters tall\n",
      "Lhotse is 8516 meters tall\n",
      "Makalu is 8485 meters tall\n",
      "Mount Everest is 8848 meters tall\n"
     ]
    }
   ],
   "source": [
    "#4\n",
    "mountains = {'Mount Everest' : 8848, 'K2' : 8611, 'Kangchenjunga' : 8586, 'Lhotse' : 8516, 'Makalu' : 8485}\n",
    "for k in mountains.keys():\n",
    "    print(k)\n",
    "    \n",
    "for j in mountains.values():\n",
    "    print(j)\n",
    "    \n",
    "for key, value in sorted(mountains.items()):\n",
    "    print(key, \"is\", value, \"meters tall\")"
   ]
  },
  {
   "cell_type": "code",
   "execution_count": 5,
   "id": "e3872955",
   "metadata": {},
   "outputs": [
    {
     "name": "stdout",
     "output_type": "stream",
     "text": [
      "['seashell', 'strange berry', 'lint']\n",
      "['bedroll', 'bread loaf', 'dagger', 'xylophone']\n"
     ]
    },
    {
     "data": {
      "text/plain": [
       "{'gold': 550,\n",
       " 'pouch': ['flint', 'twine', 'gemstone'],\n",
       " 'backpack': ['bedroll', 'bread loaf', 'xylophone'],\n",
       " 'pocket': ['seashell', 'strange berry', 'lint']}"
      ]
     },
     "execution_count": 5,
     "metadata": {},
     "output_type": "execute_result"
    }
   ],
   "source": [
    "#5\n",
    "inventory = {\n",
    "    'gold': 500,\n",
    "    'pouch' : ['flint', 'twine', 'gemstone'],\n",
    "    'backpack' : ['xylophone', 'dagger', 'bedroll', 'bread loaf']\n",
    "}\n",
    "keyvalue = {\n",
    "    'pocket' : ['seashell', 'strange berry', 'lint']\n",
    "}\n",
    "inventory.update(keyvalue)\n",
    "print(inventory[\"pocket\"])\n",
    "\n",
    "inventory[\"backpack\"] = sorted(inventory[\"backpack\"])\n",
    "print(inventory[\"backpack\"])\n",
    "\n",
    "if \"dagger\" in inventory[\"backpack\"]:\n",
    "    inventory[\"backpack\"].remove(\"dagger\")\n",
    "\n",
    "inventory[\"gold\"] = inventory[\"gold\"] + 50\n",
    "inventory"
   ]
  },
  {
   "cell_type": "code",
   "execution_count": 6,
   "id": "b62372da",
   "metadata": {},
   "outputs": [
    {
     "name": "stdout",
     "output_type": "stream",
     "text": [
      "('molaga podi', 2, 'annachi kadai')\n",
      "<class 'tuple'>\n",
      "2\n",
      "molaga podi\n",
      "2\n",
      "annachi kadai\n",
      "no\n",
      "5\n"
     ]
    }
   ],
   "source": [
    "#6\n",
    "mytuple = (\"molaga podi\", 2, \"annachi kadai\")\n",
    "print(mytuple)\n",
    "\n",
    "#create tuple from a list\n",
    "fill = (\"prem\", \"kumar\",\"okay\")\n",
    "fill = tuple(fill)\n",
    "print(type(fill))\n",
    "\n",
    "#print single item from a tuple\n",
    "item = mytuple[1]\n",
    "print(item)\n",
    "\n",
    "#print item using loop\n",
    "for i in mytuple:\n",
    "    print(i)\n",
    "    \n",
    "#use if else statements\n",
    "if \"molaga\" in mytuple:\n",
    "    print(\"molaga podi is available\")\n",
    "else:\n",
    "    print(\"no\")\n",
    "    \n",
    "#find length\n",
    "mytuples = (\"1\", 2, \"3\", 4, \"5\")\n",
    "print(len(mytuples))\n",
    "\n"
   ]
  },
  {
   "cell_type": "code",
   "execution_count": 7,
   "id": "2fbccef7",
   "metadata": {},
   "outputs": [
    {
     "name": "stdout",
     "output_type": "stream",
     "text": [
      "Enter the numbers: 6\n",
      "true\n",
      "false\n",
      "false\n"
     ]
    }
   ],
   "source": [
    "#7\n",
    "a = {1, 2, 3, 4, 5, 6, 7, 8, 9}\n",
    "b = set(input(\"Enter the numbers: \"))\n",
    "c = {1, 2, 3}\n",
    "if a.issuperset(a):\n",
    "    print(\"true\")\n",
    "else:\n",
    "    print(\"false\")\n",
    "    \n",
    "if a.issuperset(b):\n",
    "    print(\"true\")\n",
    "else:\n",
    "    print(\"false\")\n",
    "\n",
    "if a.issubset(c):\n",
    "    print(\"true\")\n",
    "else:\n",
    "    print(\"false\")"
   ]
  },
  {
   "cell_type": "code",
   "execution_count": null,
   "id": "11fb5862",
   "metadata": {},
   "outputs": [],
   "source": []
  },
  {
   "cell_type": "code",
   "execution_count": null,
   "id": "45979a72",
   "metadata": {},
   "outputs": [],
   "source": []
  },
  {
   "cell_type": "code",
   "execution_count": null,
   "id": "81f5210b",
   "metadata": {},
   "outputs": [],
   "source": []
  },
  {
   "cell_type": "code",
   "execution_count": null,
   "id": "2c013a98",
   "metadata": {},
   "outputs": [],
   "source": []
  },
  {
   "cell_type": "code",
   "execution_count": null,
   "id": "274e3f29",
   "metadata": {},
   "outputs": [],
   "source": []
  },
  {
   "cell_type": "code",
   "execution_count": null,
   "id": "ac8f5252",
   "metadata": {},
   "outputs": [],
   "source": []
  },
  {
   "cell_type": "code",
   "execution_count": null,
   "id": "42786fb6",
   "metadata": {},
   "outputs": [],
   "source": []
  },
  {
   "cell_type": "code",
   "execution_count": null,
   "id": "1d1369e2",
   "metadata": {},
   "outputs": [],
   "source": []
  }
 ],
 "metadata": {
  "kernelspec": {
   "display_name": "Python 3",
   "language": "python",
   "name": "python3"
  },
  "language_info": {
   "codemirror_mode": {
    "name": "ipython",
    "version": 3
   },
   "file_extension": ".py",
   "mimetype": "text/x-python",
   "name": "python",
   "nbconvert_exporter": "python",
   "pygments_lexer": "ipython3",
   "version": "3.9.6"
  }
 },
 "nbformat": 4,
 "nbformat_minor": 5
}
