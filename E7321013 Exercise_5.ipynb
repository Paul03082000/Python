{
 "cells": [
  {
   "cell_type": "code",
   "execution_count": 1,
   "id": "b0501057",
   "metadata": {},
   "outputs": [
    {
     "data": {
      "text/plain": [
       "28.0"
      ]
     },
     "execution_count": 1,
     "metadata": {},
     "output_type": "execute_result"
    }
   ],
   "source": [
    "#1.a\n",
    "l = lambda a,b,c:(a + b + c) / 3\n",
    "l(5, 56, 23)"
   ]
  },
  {
   "cell_type": "code",
   "execution_count": 2,
   "id": "bada4a1e",
   "metadata": {},
   "outputs": [
    {
     "data": {
      "text/plain": [
       "7.0"
      ]
     },
     "execution_count": 2,
     "metadata": {},
     "output_type": "execute_result"
    }
   ],
   "source": [
    "#1.b\n",
    "s = lambda d: d ** 0.5\n",
    "s(49)"
   ]
  },
  {
   "cell_type": "code",
   "execution_count": 3,
   "id": "20fb3961",
   "metadata": {},
   "outputs": [
    {
     "data": {
      "text/plain": [
       "55"
      ]
     },
     "execution_count": 3,
     "metadata": {},
     "output_type": "execute_result"
    }
   ],
   "source": [
    "#2\n",
    "def sum_recursive(n):\n",
    "    if n == 10:\n",
    "        return n\n",
    "    else:\n",
    "        return n + sum_recursive(n + 1)\n",
    "sum_recursive(1)"
   ]
  },
  {
   "cell_type": "code",
   "execution_count": 4,
   "id": "9fb77fc1",
   "metadata": {},
   "outputs": [
    {
     "data": {
      "text/plain": [
       "10"
      ]
     },
     "execution_count": 4,
     "metadata": {},
     "output_type": "execute_result"
    }
   ],
   "source": [
    "#3\n",
    "from functools import reduce\n",
    "lis = [1, 10, 9, 5, 7]\n",
    "r = reduce(lambda x, y: (max(lis)), lis)\n",
    "r"
   ]
  },
  {
   "cell_type": "code",
   "execution_count": 5,
   "id": "db209659",
   "metadata": {},
   "outputs": [
    {
     "name": "stdout",
     "output_type": "stream",
     "text": [
      "Welcome to flashcard application!\n",
      "Enter the name you want to add to the flashcard: DSA\n",
      "Enter the meaning of the word: Data Structures and Algorithms\n",
      "Enter 0 if you want to add another flashcard if not enter 1: 0\n",
      "Enter the name you want to add to the flashcard: GFG\n",
      "Enter the meaning of the word: GeeksforGeeks\n",
      "Enter 0 if you want to add another flashcard if not enter 1: 1\n",
      "Your flashcards: \n",
      "> DSA ( Data Structures and Algorithms )\n",
      "> GFG ( GeeksforGeeks )\n"
     ]
    }
   ],
   "source": [
    "#4\n",
    "class flashcards:\n",
    "    \n",
    "    def __init__(self, word, meaning):\n",
    "        self.word = word\n",
    "        self.meaning = meaning\n",
    "    \n",
    "    def __str__(self):\n",
    "            return '> ' + self.word + ' ( ' + self.meaning + ' )' \n",
    "\n",
    "print(\"Welcome to flashcard application!\")\n",
    "ini = 0\n",
    "flash = []\n",
    "while ini == 0:\n",
    "    word = input(\"Enter the name you want to add to the flashcard: \")\n",
    "    meaning = input(\"Enter the meaning of the word: \")\n",
    "    flash.append(flashcards(word, meaning))\n",
    "    ent = int(input(\"Enter 0 if you want to add another flashcard if not enter 1: \"))\n",
    "    if ent != 0:\n",
    "        ini += 1\n",
    "\n",
    "print(\"Your flashcards: \")\n",
    "for i in flash:\n",
    "    print(i)"
   ]
  },
  {
   "cell_type": "code",
   "execution_count": 6,
   "id": "497db135",
   "metadata": {},
   "outputs": [
    {
     "name": "stdout",
     "output_type": "stream",
     "text": [
      "The variable entered is not defined\n",
      "Division is not possible\n",
      "enter a number: vsrv\n",
      "Enter only integer\n",
      "The entered index is not available.\n"
     ]
    }
   ],
   "source": [
    "#5\n",
    "#NameError\n",
    "try:\n",
    "    print(u)\n",
    "except NameError:\n",
    "    print(\"The variable entered is not defined\")\n",
    "    \n",
    "#ZeroDivisionError   \n",
    "try: \n",
    "    a = 5\n",
    "    b = 0\n",
    "    c = a / b\n",
    "except ZeroDivisionError:\n",
    "    print(\"Division is not possible\")\n",
    "    \n",
    "#ValueError\n",
    "try:\n",
    "    o = int(input(\"enter a number: \"))\n",
    "    o\n",
    "except ValueError:\n",
    "    print(\"Enter only integer\")\n",
    "    \n",
    "#IndexError\n",
    "try:\n",
    "    l = [1, 2, 3, 4, 5]\n",
    "    l[5]\n",
    "except IndexError:\n",
    "    print(\"The entered index is not available.\")"
   ]
  },
  {
   "cell_type": "code",
   "execution_count": 9,
   "id": "bdad8be8",
   "metadata": {},
   "outputs": [
    {
     "name": "stdout",
     "output_type": "stream",
     "text": [
      "Enter the salary: 12000\n",
      "Enter the salary: 21000\n",
      "Enter the salary: 4999\n",
      "Enter the salary: 18000\n",
      "Enter the salary: 13000\n",
      "[12000, 21000, 4999, 18000, 13000]\n",
      "Enter salary within the range of 5000 and 20000 for employee-2:\n",
      "19000\n",
      "Enter salary within the range of 5000 and 20000 for employee-3:\n",
      "5100\n",
      "Details of the employees: \n",
      "[1, 2, 3, 4, 5]\n",
      "['emp1', 'emp2', 'emp3', 'emp4', 'emp5']\n",
      "['HR', 'Intern', 'Manager', 'Employee', 'BOSS']\n",
      "[12000, 19000, 5100, 18000, 13000]\n"
     ]
    }
   ],
   "source": [
    "#6\n",
    "class SalaryNotinRange(Exception):\n",
    "    pass\n",
    "\n",
    "eno = [1, 2, 3, 4, 5]\n",
    "ename = [\"emp1\",\"emp2\",\"emp3\",\"emp4\",\"emp5\"]\n",
    "designation = [\"HR\", \"Intern\", \"Manager\",\"Employee\", \"BOSS\"]\n",
    "salary = []\n",
    "for i in range(1,6):\n",
    "    salary.append(int(input(\"Enter the salary: \")))\n",
    "print(salary)\n",
    "\n",
    "norange = []\n",
    "try:\n",
    "    for j,k in enumerate(salary):\n",
    "        if k < 5000 or k > 20000:\n",
    "            norange.append(j)\n",
    "    raise SalaryNotinRange(\"Salary out of range\" )\n",
    "\n",
    "except SalaryNotinRange:\n",
    "    for m in norange:\n",
    "        print(\"Enter salary within the range of 5000 and 20000 for employee-\" + str(eno[m]) + \":\")\n",
    "        salary[m] = int(input())\n",
    "    \n",
    "else:\n",
    "    print(\"All the salaries are within range.\")\n",
    "finally:\n",
    "    print(\"Details of the employees: \")\n",
    "    for w in eno, ename, designation, salary:\n",
    "        print(w)\n",
    "        \n",
    "    "
   ]
  },
  {
   "cell_type": "code",
   "execution_count": null,
   "id": "12c79a5b",
   "metadata": {},
   "outputs": [],
   "source": []
  }
 ],
 "metadata": {
  "kernelspec": {
   "display_name": "Python 3",
   "language": "python",
   "name": "python3"
  },
  "language_info": {
   "codemirror_mode": {
    "name": "ipython",
    "version": 3
   },
   "file_extension": ".py",
   "mimetype": "text/x-python",
   "name": "python",
   "nbconvert_exporter": "python",
   "pygments_lexer": "ipython3",
   "version": "3.9.6"
  }
 },
 "nbformat": 4,
 "nbformat_minor": 5
}
