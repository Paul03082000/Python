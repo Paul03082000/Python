{
 "cells": [
  {
   "cell_type": "code",
   "execution_count": 1,
   "id": "b3f7a09a",
   "metadata": {},
   "outputs": [
    {
     "name": "stdout",
     "output_type": "stream",
     "text": [
      "1\n",
      "3\n",
      "6\n",
      "10\n",
      "15\n",
      "21\n",
      "28\n",
      "36\n",
      "45\n",
      "55\n"
     ]
    }
   ],
   "source": [
    "#1. addition in list\n",
    "l = [1, 2, 3, 4, 5, 6, 7, 8, 9, 10]\n",
    "output = 0\n",
    "for i in l:\n",
    "    output = output + i\n",
    "    print(output)"
   ]
  },
  {
   "cell_type": "code",
   "execution_count": 2,
   "id": "0797c963",
   "metadata": {},
   "outputs": [
    {
     "name": "stdout",
     "output_type": "stream",
     "text": [
      "5\n",
      "10\n",
      "15\n",
      "20\n"
     ]
    }
   ],
   "source": [
    "#2. numbers only divisible by 5\n",
    "n = [3, 5, 6, 7, 8, 9, 10, 11, 15, 19, 20]\n",
    "i = 0\n",
    "for i in n:\n",
    "    if i % 5 == 0:\n",
    "        print(i)\n",
    "        i = i + 1\n",
    "    else:\n",
    "        i = i + 1 "
   ]
  },
  {
   "cell_type": "code",
   "execution_count": 3,
   "id": "2542497f",
   "metadata": {},
   "outputs": [
    {
     "name": "stdout",
     "output_type": "stream",
     "text": [
      "Enter your name: Prem\n",
      "Enter your designation: Intern\n",
      "Enter your salary per month(INR): 200000\n",
      "Name:  Prem\n",
      "Designation:  Intern\n",
      "Salary per month(in Dollars):  2658.51\n",
      "Salary per annum(in Dollars):  31902.12\n",
      "10% of tax for the 2nd $10,000 from the income 1000.0\n",
      "20% of tax for rest of the income 2380.424\n",
      "total tax:  3380.424\n",
      "Salary left after all the tax deduction:  28521.696\n"
     ]
    }
   ],
   "source": [
    "#3. calculate the income tax for the given income\n",
    "name = input(\"Enter your name: \")\n",
    "role = input(\"Enter your designation: \")\n",
    "salary = float(input(\"Enter your salary per month(INR): \"))\n",
    "def currency(salary):\n",
    "    salary = salary / 75.23\n",
    "    salary = round(salary, 2)\n",
    "    return salary\n",
    "print(\"Name: \", name)\n",
    "print(\"Designation: \", role)\n",
    "salary = currency(salary)\n",
    "print(\"Salary per month(in Dollars): \", salary)\n",
    "salary = salary * 12\n",
    "salary = round(salary, 2)\n",
    "print(\"Salary per annum(in Dollars): \", salary)\n",
    "if salary < 10000:\n",
    "    print(\"You have no tax\")\n",
    "elif salary <= 20000:\n",
    "    money = salary - 10000\n",
    "    another_money = money * 0.1\n",
    "    another_money = round(another_money, 2)\n",
    "    print(another_money)\n",
    "elif salary > 20000:\n",
    "    tax_free = 10000\n",
    "    first_tax = 10000 * 0.1\n",
    "    rest_money = salary - tax_free\n",
    "    money = rest_money - first_tax\n",
    "    final = salary - 20000\n",
    "    remain_tax = final * 0.2\n",
    "    total_tax = remain_tax + first_tax\n",
    "    print(\"10% of tax for the 2nd $10,000 from the income\", first_tax)\n",
    "    print(\"20% of tax for rest of the income\", remain_tax)\n",
    "    print(\"total tax: \", total_tax) \n",
    "    print(\"Salary left after all the tax deduction: \", salary - total_tax)\n",
    "else:\n",
    "    print(\"Something went wrong\")"
   ]
  },
  {
   "cell_type": "code",
   "execution_count": 4,
   "id": "4855c308",
   "metadata": {
    "scrolled": true
   },
   "outputs": [
    {
     "name": "stdout",
     "output_type": "stream",
     "text": [
      "5\n",
      "10\n",
      "15\n",
      "20\n",
      "25\n",
      "30\n",
      "35\n",
      "40\n",
      "45\n",
      "50\n",
      "55\n",
      "60\n",
      "65\n",
      "70\n",
      "75\n",
      "80\n",
      "85\n",
      "90\n",
      "95\n",
      "100\n",
      "105\n",
      "110\n",
      "115\n",
      "120\n",
      "125\n",
      "130\n",
      "135\n",
      "140\n",
      "145\n",
      "150\n",
      "155\n",
      "160\n",
      "165\n",
      "170\n",
      "175\n",
      "180\n",
      "185\n",
      "190\n",
      "195\n",
      "200\n",
      "205\n",
      "210\n",
      "215\n",
      "220\n",
      "225\n",
      "230\n",
      "235\n",
      "240\n",
      "245\n",
      "250\n",
      "255\n",
      "260\n",
      "265\n",
      "270\n",
      "275\n",
      "280\n",
      "285\n",
      "290\n",
      "295\n",
      "300\n",
      "305\n",
      "310\n",
      "315\n",
      "320\n",
      "325\n",
      "330\n",
      "335\n",
      "340\n",
      "345\n",
      "350\n",
      "355\n",
      "360\n",
      "365\n",
      "370\n",
      "375\n",
      "380\n",
      "385\n",
      "390\n",
      "395\n",
      "400\n",
      "405\n",
      "410\n",
      "415\n",
      "420\n",
      "425\n",
      "430\n",
      "435\n",
      "440\n",
      "445\n",
      "450\n",
      "455\n",
      "460\n",
      "465\n",
      "470\n",
      "475\n",
      "480\n",
      "485\n",
      "490\n",
      "495\n",
      "500\n",
      "the count:  100\n"
     ]
    }
   ],
   "source": [
    "#4. print and count the numbers divisible by 5 between 1 and 500\n",
    "x = []\n",
    "for i in range(1,501):\n",
    "    if i % 5 == 0:\n",
    "        x.append(i)\n",
    "        print(i)\n",
    "print(\"the count: \", len(x))"
   ]
  },
  {
   "cell_type": "code",
   "execution_count": 5,
   "id": "c2f665f5",
   "metadata": {},
   "outputs": [
    {
     "name": "stdout",
     "output_type": "stream",
     "text": [
      "Enter your consumer number: 1568223\n",
      "Enter your name: Prem\n",
      "Enter unit consumed: 153\n",
      "332.5\n"
     ]
    }
   ],
   "source": [
    "#5. electricity bill calculator\n",
    "consumer_number = input(\"Enter your consumer number: \")\n",
    "name = input(\"Enter your name: \")\n",
    "unit = int(input(\"Enter unit consumed: \"))\n",
    "if unit <= 100:\n",
    "     amount = unit * 1.5\n",
    "     amount = amount + 25\n",
    "     print(amount)       \n",
    "elif unit > 100 and unit <= 200:\n",
    "     amount = (100 * 1.5) + (unit - 100) * 2.5\n",
    "     amount = amount + 50\n",
    "     print(amount)\n",
    "elif unit > 200 and unit <= 300:\n",
    "     amount = (100 * 1.5) + (200 - 100) * 2.5 + (unit - 200) * 4\n",
    "     amount = amount + 75\n",
    "     print(amount)\n",
    "elif unit > 300 and unit <= 350:\n",
    "     amount = (100 * 1.5) + (200 - 100) * 2.5 +(300 - 200) * 4 + (unit - 350) * 5\n",
    "     amount = amount + 100   \n",
    "     print(amount)\n",
    "elif unit > 350:\n",
    "     amount = 1500\n",
    "     print(amount)\n",
    "else:\n",
    "    print(\"Something went wrong\")"
   ]
  },
  {
   "cell_type": "code",
   "execution_count": 7,
   "id": "25530c42",
   "metadata": {},
   "outputs": [
    {
     "name": "stdout",
     "output_type": "stream",
     "text": [
      "Enter starting annual salary: 120000\n",
      "Enter the portion to be saved: 0.1\n",
      "Enter the cost of your dream house: 1000000\n",
      "monthly_salary:  10000.0\n",
      "portion_down_payment:  250000.0\n",
      "monthly_savings:  1000.0\n",
      "Months it'll take to reach the down payment amount is 183 months\n"
     ]
    }
   ],
   "source": [
    "#6. case study challenge\n",
    "annual_salary = int(input(\"Enter starting annual salary: \"))\n",
    "portion_saved = float(input(\"Enter the portion to be saved: \"))\n",
    "total_cost = int(input(\"Enter the cost of your dream house: \"))\n",
    "monthly_salary = annual_salary / 12\n",
    "monthly_salary = round(monthly_salary, 2)\n",
    "portion_down_payment = total_cost * 0.25\n",
    "monthly_savings = monthly_salary * portion_saved\n",
    "monthly_savings = round(monthly_savings, 2)\n",
    "print(\"monthly_salary: \", monthly_salary)\n",
    "print(\"portion_down_payment: \", portion_down_payment)\n",
    "print(\"monthly_savings: \", monthly_savings)\n",
    "current_savings = 0\n",
    "months = 0\n",
    "while current_savings <= portion_down_payment:\n",
    "    current_savings = current_savings + current_savings * (0.04 / 12) + monthly_savings\n",
    "    months = months + 1\n",
    "print(\"Months it'll take to reach the down payment amount is \" + str(months) + \" months\")"
   ]
  },
  {
   "cell_type": "code",
   "execution_count": 5,
   "id": "c845e952",
   "metadata": {},
   "outputs": [
    {
     "name": "stdout",
     "output_type": "stream",
     "text": [
      "Enter starting annual salary: 120000\n",
      "Enter the portion to be saved: 0.05\n",
      "Enter the cost of your dream house: 500000\n",
      "Enter the semi annual raise: 0.03\n",
      "monthly_salary:  10000.0\n",
      "monthly_savings:  500.0\n",
      "portion_down_payment:  125000.0\n",
      "Months it'll take to reach the down payment amount is 142 months\n"
     ]
    }
   ],
   "source": [
    "#6. case study challenge part b\n",
    "annual_salary = int(input(\"Enter starting annual salary: \"))\n",
    "portion_saved = float(input(\"Enter the portion to be saved: \"))\n",
    "total_cost = int(input(\"Enter the cost of your dream house: \"))\n",
    "semi_raise = float(input(\"Enter the semi annual raise: \"))\n",
    "monthly_salary = annual_salary / 12\n",
    "monthly_savings = annual_salary * portion_saved / 12\n",
    "portion_down_payment = total_cost * 0.25\n",
    "print(\"monthly_salary: \", monthly_salary)\n",
    "print(\"monthly_savings: \", monthly_savings)\n",
    "print(\"portion_down_payment: \", portion_down_payment)\n",
    "current_savings = 0\n",
    "months = 0\n",
    "while current_savings <= portion_down_payment:\n",
    "    current_savings += monthly_savings \n",
    "    current_savings += current_savings * 0.04 / 12\n",
    "    months = months + 1\n",
    "    if months % 6 == 0:\n",
    "        monthly_savings += monthly_savings * semi_raise \n",
    "print(\"Months it'll take to reach the down payment amount is \" + str(months) + \" months\")"
   ]
  },
  {
   "cell_type": "code",
   "execution_count": null,
   "id": "79bffc2a",
   "metadata": {},
   "outputs": [],
   "source": []
  },
  {
   "cell_type": "code",
   "execution_count": null,
   "id": "5723542a",
   "metadata": {},
   "outputs": [],
   "source": []
  }
 ],
 "metadata": {
  "kernelspec": {
   "display_name": "Python 3",
   "language": "python",
   "name": "python3"
  },
  "language_info": {
   "codemirror_mode": {
    "name": "ipython",
    "version": 3
   },
   "file_extension": ".py",
   "mimetype": "text/x-python",
   "name": "python",
   "nbconvert_exporter": "python",
   "pygments_lexer": "ipython3",
   "version": "3.9.6"
  }
 },
 "nbformat": 4,
 "nbformat_minor": 5
}
