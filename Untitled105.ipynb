{
 "cells": [
  {
   "cell_type": "code",
   "execution_count": 27,
   "id": "5ef9d4e8",
   "metadata": {},
   "outputs": [
    {
     "name": "stdout",
     "output_type": "stream",
     "text": [
      "http://python-engineers.com\n",
      "['209.160.24.63 - - [01/Feb/2021:18:22:17] \"GET /product.screen?productId=BS-AG-G09&JSESSIONID=SD0SL6FF7ADFF4953 HTTP 1.1\" 200 2550 \"http://www.google.com/productid=12wdef\" \"Mozilla/5.0 (Windows NT 6.1; WOW64) AppleWebKit/536.5 (KHTML, like Gecko) Chrome/19.0.1084.46 Safari/536.5\" 422']\n",
      "['209.160.24.63']\n"
     ]
    }
   ],
   "source": [
    "import re\n",
    "urls='''\n",
    "http://python-engineers.com'''\n",
    "pattern=r'https?://(www\\.)?([a-zA-Z-]+)(\\.\\w+)'\n",
    "match=re.finditer(pattern,urls)\n",
    "for i in match:\n",
    "  print(i.group())\n",
    "with open(r'C:/Users/karth/web.txt') as fp:\n",
    "  ipin=fp.readlines()\n",
    "  print(ipin)\n",
    "pattern=r'(\\d{1,3}\\.\\d{1,3}\\.\\d{1,3}\\.\\d{1,3})'\n",
    "for line in ipin:\n",
    "  mat=re.findall(pattern,line)\n",
    "  print(mat)"
   ]
  },
  {
   "cell_type": "code",
   "execution_count": 13,
   "id": "0ea27796",
   "metadata": {},
   "outputs": [
    {
     "name": "stdout",
     "output_type": "stream",
     "text": [
      "Contents\n",
      "\n",
      "1 Plot\n",
      "2 Cast\n",
      "3 Production\n",
      "\n",
      "3.1 Development\n",
      "3.2 Pre-production\n",
      "3.3 Filming\n",
      "3.4 Post-production\n",
      "\n",
      "\n",
      "4 Music\n",
      "5 Marketing\n",
      "6 Release\n",
      "\n",
      "6.1 Theatrical\n",
      "6.2 Home media\n",
      "\n",
      "\n",
      "7 Reception\n",
      "\n",
      "7.1 Box office\n",
      "7.2 Critical response\n",
      "7.3 Accolades\n",
      "\n",
      "\n",
      "8 Sequels\n",
      "\n",
      "8.1 Iron Man 2\n",
      "8.2 Iron Man 3\n",
      "\n",
      "\n",
      "9 See also\n",
      "10 Notes\n",
      "11 References\n",
      "12 External links\n",
      "\n",
      "\n"
     ]
    }
   ],
   "source": [
    "import requests\n",
    "r = requests.get('https://en.wikipedia.org/wiki/Iron_Man_(2008_film)')\n",
    "c = r.content\n",
    "from bs4 import BeautifulSoup\n",
    "soup = BeautifulSoup(c)\n",
    "content = soup.find('div', attrs={'id': \"toc\"})\n",
    "print(content.text)"
   ]
  },
  {
   "cell_type": "code",
   "execution_count": 15,
   "id": "0d89a89e",
   "metadata": {},
   "outputs": [
    {
     "data": {
      "text/plain": [
       "'C:\\\\Users\\\\karth'"
      ]
     },
     "execution_count": 15,
     "metadata": {},
     "output_type": "execute_result"
    }
   ],
   "source": [
    "import os\n",
    "os.getcwd()"
   ]
  },
  {
   "cell_type": "code",
   "execution_count": null,
   "id": "d78a0d5d",
   "metadata": {},
   "outputs": [],
   "source": []
  }
 ],
 "metadata": {
  "kernelspec": {
   "display_name": "Python 3",
   "language": "python",
   "name": "python3"
  },
  "language_info": {
   "codemirror_mode": {
    "name": "ipython",
    "version": 3
   },
   "file_extension": ".py",
   "mimetype": "text/x-python",
   "name": "python",
   "nbconvert_exporter": "python",
   "pygments_lexer": "ipython3",
   "version": "3.9.6"
  }
 },
 "nbformat": 4,
 "nbformat_minor": 5
}
