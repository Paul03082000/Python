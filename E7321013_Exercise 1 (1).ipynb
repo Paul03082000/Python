{
 "cells": [
  {
   "cell_type": "code",
   "execution_count": 1,
   "id": "0857aa1e",
   "metadata": {},
   "outputs": [
    {
     "name": "stdout",
     "output_type": "stream",
     "text": [
      "Twinkle, twinkle, little star\n",
      "                How I wonder what you are!\n",
      "                        Up above the world so high,\n",
      "                        Like a diamond in the sky.\n",
      "        Twinkle, twinkle, little star,\n",
      "            How I wonder what you are\n"
     ]
    }
   ],
   "source": [
    "#1.use python code to print lines\n",
    "print(\"\"\"Twinkle, twinkle, little star\n",
    "                How I wonder what you are!\n",
    "                        Up above the world so high,\n",
    "                        Like a diamond in the sky.\n",
    "        Twinkle, twinkle, little star,\n",
    "            How I wonder what you are\"\"\")"
   ]
  },
  {
   "cell_type": "code",
   "execution_count": 24,
   "id": "ca74b171",
   "metadata": {},
   "outputs": [
    {
     "name": "stdout",
     "output_type": "stream",
     "text": [
      "Name:  Prem Kumar K S\n",
      "Age:  21\n",
      "Address:  XXX YYY ZZZ,Chennai-600077\n",
      "Type of Name:  <class 'str'>\n",
      "Type of Age:  <class 'int'>\n",
      "Type of Addrerss:  <class 'str'>\n",
      "ID of Name:  2425289466800\n",
      "ID of Age:  2425218624432\n",
      "ID of Address:  2425289395136\n"
     ]
    }
   ],
   "source": [
    "#2.use code to display name, age, address\n",
    "name = \"Prem Kumar K S\"\n",
    "age = 21\n",
    "address = \"XXX YYY ZZZ,Chennai-600077\"\n",
    "print(\"Name: \", name)\n",
    "print(\"Age: \", age)\n",
    "print(\"Address: \", address)\n",
    "print(\"Type of Name: \", type(name))\n",
    "print(\"Type of Age: \", type(age))\n",
    "print(\"Type of Addrerss: \", type(address))\n",
    "print(\"ID of Name: \", id(name))\n",
    "print(\"ID of Age: \", id(age))\n",
    "print(\"ID of Address: \", id(address))"
   ]
  },
  {
   "cell_type": "code",
   "execution_count": 10,
   "id": "41009cf2",
   "metadata": {},
   "outputs": [
    {
     "name": "stdout",
     "output_type": "stream",
     "text": [
      "Enter the total number of cars: 80\n",
      "Enter the number of cars per row: 4\n",
      "The car parking area would need 20.0 rows\n"
     ]
    }
   ],
   "source": [
    "#3.a python program to compute the following\n",
    "total_cars, rows = input(\"Enter the total number of cars: \"), input(\"Enter the number of cars per row: \")\n",
    "ans = int(total_cars) / int(rows)\n",
    "print(\"The car parking area would need \" + str(ans) + \" rows\")"
   ]
  },
  {
   "cell_type": "code",
   "execution_count": 11,
   "id": "43d22215",
   "metadata": {},
   "outputs": [
    {
     "name": "stdout",
     "output_type": "stream",
     "text": [
      "Total number of pencils to sell is 26\n",
      "Pencils sold to uncle: 14\n",
      "Sold to cousin: 2\n",
      "Sold to friend: 1\n",
      "Remaining pencils for Amit to sell is 9\n"
     ]
    }
   ],
   "source": [
    "#3.b calculating\n",
    "total, uncle, cousin, friend = input(\"Total number of pencils to sell is \"), input(\"Pencils sold to uncle: \"), input(\"Sold to cousin: \"),input(\"Sold to friend: \")\n",
    "remaining_to_sell = int(total) - (int(uncle) + int(cousin) + int(friend))\n",
    "print(\"Remaining pencils for Amit to sell is \" + str(remaining_to_sell))"
   ]
  },
  {
   "cell_type": "code",
   "execution_count": 7,
   "id": "cc16bc51",
   "metadata": {},
   "outputs": [
    {
     "name": "stdout",
     "output_type": "stream",
     "text": [
      "M.Sc A.I M.Sc A.I M.Sc A.I \n"
     ]
    }
   ],
   "source": [
    "#4 what is the output of the code\n",
    "myString = \"M.Sc A.I \"\n",
    "final_output = myString * 3\n",
    "print(final_output)"
   ]
  },
  {
   "cell_type": "code",
   "execution_count": 7,
   "id": "ee8a5e39",
   "metadata": {},
   "outputs": [
    {
     "name": "stdout",
     "output_type": "stream",
     "text": [
      "60 480\n"
     ]
    }
   ],
   "source": [
    "#5 find the output\n",
    "p = 10\n",
    "q = 20\n",
    "p*= q//3\n",
    "q+=p + q**2\n",
    "print(p,q)"
   ]
  },
  {
   "cell_type": "code",
   "execution_count": 9,
   "id": "3c0d100f",
   "metadata": {},
   "outputs": [
    {
     "name": "stdout",
     "output_type": "stream",
     "text": [
      "15\n",
      "14 50\n"
     ]
    }
   ],
   "source": [
    "#6 find the output\n",
    "x = 20\n",
    "x = x + 5\n",
    "x = x - 10\n",
    "print(x)\n",
    "x,y = x - 1,50\n",
    "print(x,y)"
   ]
  },
  {
   "cell_type": "code",
   "execution_count": 10,
   "id": "4101e6de",
   "metadata": {},
   "outputs": [
    {
     "name": "stdout",
     "output_type": "stream",
     "text": [
      "122.0 11.0 14.0 9\n"
     ]
    }
   ],
   "source": [
    "#7 find the output\n",
    "a = (2 + 3) ** 3 - 6 / 2\n",
    "b = (2 + 3) * 5 // 4 + (4 + 6) / 2\n",
    "c = 12 + (3 * 4 - 6) / 3\n",
    "d = 12 % 5 * 3 + (2 * 6) // 4\n",
    "print(a,b,c,d)"
   ]
  },
  {
   "cell_type": "code",
   "execution_count": 12,
   "id": "d9cae0af",
   "metadata": {},
   "outputs": [
    {
     "name": "stdout",
     "output_type": "stream",
     "text": [
      "Etner the number of whose factorial you want to find: -6\n"
     ]
    },
    {
     "ename": "ValueError",
     "evalue": "factorial() not defined for negative values",
     "output_type": "error",
     "traceback": [
      "\u001b[1;31m---------------------------------------------------------------------------\u001b[0m",
      "\u001b[1;31mValueError\u001b[0m                                Traceback (most recent call last)",
      "\u001b[1;32m<ipython-input-12-e1aee4da0dae>\u001b[0m in \u001b[0;36m<module>\u001b[1;34m\u001b[0m\n\u001b[0;32m      3\u001b[0m \u001b[1;32mimport\u001b[0m \u001b[0mmath\u001b[0m\u001b[1;33m\u001b[0m\u001b[1;33m\u001b[0m\u001b[0m\n\u001b[0;32m      4\u001b[0m \u001b[0mnum\u001b[0m \u001b[1;33m=\u001b[0m \u001b[0mint\u001b[0m\u001b[1;33m(\u001b[0m\u001b[0minput\u001b[0m\u001b[1;33m(\u001b[0m\u001b[1;34m\"Etner the number of whose factorial you want to find: \"\u001b[0m\u001b[1;33m)\u001b[0m\u001b[1;33m)\u001b[0m\u001b[1;33m\u001b[0m\u001b[1;33m\u001b[0m\u001b[0m\n\u001b[1;32m----> 5\u001b[1;33m \u001b[0mprint\u001b[0m\u001b[1;33m(\u001b[0m\u001b[0mmath\u001b[0m\u001b[1;33m.\u001b[0m\u001b[0mfactorial\u001b[0m\u001b[1;33m(\u001b[0m\u001b[0mnum\u001b[0m\u001b[1;33m)\u001b[0m\u001b[1;33m)\u001b[0m\u001b[1;33m\u001b[0m\u001b[1;33m\u001b[0m\u001b[0m\n\u001b[0m",
      "\u001b[1;31mValueError\u001b[0m: factorial() not defined for negative values"
     ]
    }
   ],
   "source": [
    "#advanced challenges\n",
    "#1.a compare the codes\n",
    "import math\n",
    "num = int(input(\"Etner the number of whose factorial you want to find: \"))\n",
    "print(math.factorial(num))"
   ]
  },
  {
   "cell_type": "code",
   "execution_count": 15,
   "id": "fc87b3a0",
   "metadata": {},
   "outputs": [
    {
     "name": "stdout",
     "output_type": "stream",
     "text": [
      "Etner the number of whose factorial you want to find: 6\n",
      "720\n"
     ]
    }
   ],
   "source": [
    "#1.b compare the codes\n",
    "num = int(input(\"Etner the number of whose factorial you want to find: \"))\n",
    "print(math.factorial(num))"
   ]
  },
  {
   "cell_type": "code",
   "execution_count": 14,
   "id": "28dee623",
   "metadata": {},
   "outputs": [
    {
     "name": "stdout",
     "output_type": "stream",
     "text": [
      "Cost of the goods: 200200\n",
      "Money given: 10001000\n",
      "Money received by the customer is 9800800\n",
      "Money lost by the shopkeeper is 10201200\n"
     ]
    }
   ],
   "source": [
    "#2 solve the problem\n",
    "cost = int(input(\"Cost of the goods: \"))\n",
    "given = int(input(\"Money given: \"))\n",
    "remaining = given - cost\n",
    "print(\"Money received by the customer is \" + str(remaining))\n",
    "loss = given + cost\n",
    "print(\"Money lost by the shopkeeper is \" + str(loss))"
   ]
  },
  {
   "cell_type": "code",
   "execution_count": 9,
   "id": "0cde7fb8",
   "metadata": {},
   "outputs": [
    {
     "name": "stdout",
     "output_type": "stream",
     "text": [
      "Salary: 10000\n",
      "Rent Amount: 1200\n",
      "Food: 30\n",
      "Entertainment: 200\n",
      "Unforeseen expences: 250\n",
      "Salary:  10000\n",
      "Expected expenditure per month: 2550\n",
      "Savings:  7450\n"
     ]
    }
   ],
   "source": [
    "#3 Budget calculator\n",
    "salary = int(input(\"Salary: \"))\n",
    "rent = int(input(\"Rent Amount: \"))\n",
    "food = int(input(\"Food: \"))\n",
    "entertainment = int(input(\"Entertainment: \"))\n",
    "extras = int(input(\"Unforeseen expences: \"))\n",
    "food = food * 30\n",
    "expenditure_per_month = rent + food + entertainment + extras\n",
    "savings = salary - expenditure_per_month \n",
    "print(\"Salary: \",salary)\n",
    "print(\"Expected expenditure per month: \" + str(expenditure_per_month))\n",
    "print(\"Savings: \",savings)"
   ]
  },
  {
   "cell_type": "code",
   "execution_count": 5,
   "id": "32750702",
   "metadata": {},
   "outputs": [
    {
     "name": "stdout",
     "output_type": "stream",
     "text": [
      "Enter the sales amount: 100\n",
      "Enter the actual amount: 45\n",
      "The amount received: 55\n"
     ]
    }
   ],
   "source": [
    "#4 find the returns\n",
    "sales = int(input(\"Enter the sales amount: \"))\n",
    "actual = int(input(\"Enter the actual amount: \"))\n",
    "returns = sales - actual\n",
    "print(\"The amount received: \" + str(returns))"
   ]
  },
  {
   "cell_type": "code",
   "execution_count": 8,
   "id": "d5ae2a1b",
   "metadata": {},
   "outputs": [
    {
     "name": "stdout",
     "output_type": "stream",
     "text": [
      "Enter employee name: Tony Stark\n",
      "Enter wages per day: 100\n",
      "Enter the number of days worked in a month: 26\n",
      "Name:  Tony Stark\n",
      "Days worked:  26\n",
      "Basic_pay:  2600\n",
      "HRA:  260.0\n",
      "DA:  130.0\n",
      "PF:  312.0\n",
      "Net pay:  2678.0\n"
     ]
    }
   ],
   "source": [
    "#5 calculate the employee salary\n",
    "name = input(\"Enter employee name: \")\n",
    "wages = int(input(\"Enter wages per day: \"))\n",
    "days_worked = int(input(\"Enter the number of days worked in a month: \"))\n",
    "basic_pay = wages * days_worked\n",
    "HRA = 0.1 * basic_pay #10%\n",
    "DA = 0.05 * basic_pay #5%\n",
    "PF = 0.12 * basic_pay #12%\n",
    "gross_pay = basic_pay + (HRA) + (DA)\n",
    "net_pay = gross_pay - (PF)\n",
    "print(\"Name: \", name)\n",
    "print(\"Days worked: \", days_worked)\n",
    "print(\"Basic_pay: \", basic_pay)\n",
    "print(\"HRA: \", HRA)\n",
    "print(\"DA: \", DA)\n",
    "print(\"PF: \", PF)\n",
    "print(\"Net pay: \", net_pay)"
   ]
  },
  {
   "cell_type": "code",
   "execution_count": 1,
   "id": "5b2f6a52",
   "metadata": {},
   "outputs": [
    {
     "data": {
      "text/plain": [
       "2.5"
      ]
     },
     "execution_count": 1,
     "metadata": {},
     "output_type": "execute_result"
    }
   ],
   "source": [
    "15 / 6"
   ]
  },
  {
   "cell_type": "code",
   "execution_count": null,
   "id": "a3c57d01",
   "metadata": {},
   "outputs": [],
   "source": []
  },
  {
   "cell_type": "code",
   "execution_count": null,
   "id": "63c472df",
   "metadata": {},
   "outputs": [],
   "source": []
  },
  {
   "cell_type": "code",
   "execution_count": null,
   "id": "3dca6413",
   "metadata": {},
   "outputs": [],
   "source": []
  },
  {
   "cell_type": "code",
   "execution_count": null,
   "id": "ec7da7ea",
   "metadata": {},
   "outputs": [],
   "source": []
  },
  {
   "cell_type": "code",
   "execution_count": null,
   "id": "bd5db130",
   "metadata": {},
   "outputs": [],
   "source": []
  },
  {
   "cell_type": "code",
   "execution_count": null,
   "id": "f0b6bc1b",
   "metadata": {},
   "outputs": [],
   "source": []
  },
  {
   "cell_type": "code",
   "execution_count": null,
   "id": "c87ecdd0",
   "metadata": {},
   "outputs": [],
   "source": []
  },
  {
   "cell_type": "code",
   "execution_count": null,
   "id": "f1c6300b",
   "metadata": {},
   "outputs": [],
   "source": []
  }
 ],
 "metadata": {
  "kernelspec": {
   "display_name": "Python 3",
   "language": "python",
   "name": "python3"
  },
  "language_info": {
   "codemirror_mode": {
    "name": "ipython",
    "version": 3
   },
   "file_extension": ".py",
   "mimetype": "text/x-python",
   "name": "python",
   "nbconvert_exporter": "python",
   "pygments_lexer": "ipython3",
   "version": "3.9.6"
  }
 },
 "nbformat": 4,
 "nbformat_minor": 5
}
